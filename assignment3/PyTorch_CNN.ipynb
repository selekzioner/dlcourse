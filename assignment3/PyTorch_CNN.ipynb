{
  "nbformat": 4,
  "nbformat_minor": 0,
  "metadata": {
    "accelerator": "GPU",
    "colab": {
      "name": "PyTorch_CNN.ipynb",
      "provenance": [],
      "collapsed_sections": []
    },
    "kernelspec": {
      "display_name": "Python 3",
      "language": "python",
      "name": "python3"
    },
    "language_info": {
      "codemirror_mode": {
        "name": "ipython",
        "version": 3
      },
      "file_extension": ".py",
      "mimetype": "text/x-python",
      "name": "python",
      "nbconvert_exporter": "python",
      "pygments_lexer": "ipython3",
      "version": "3.7.4"
    }
  },
  "cells": [
    {
      "cell_type": "markdown",
      "metadata": {
        "id": "bZCeyWob4mWY"
      },
      "source": [
        "# Задание 3.2 - сверточные нейронные сети (CNNs) в PyTorch\n",
        "\n",
        "Это упражнение мы буде выполнять в Google Colab - https://colab.research.google.com/  \n",
        "Google Colab позволяет запускать код в notebook в облаке Google, где можно воспользоваться бесплатным GPU!  \n",
        "\n",
        "Авторы курса благодарят компанию Google и надеятся, что праздник не закончится.\n",
        "\n",
        "Туториал по настройке Google Colab:  \n",
        "https://medium.com/deep-learning-turkey/google-colab-free-gpu-tutorial-e113627b9f5d  \n",
        "(Keras инсталлировать не нужно, наш notebook сам установит PyTorch)\n"
      ]
    },
    {
      "cell_type": "code",
      "metadata": {
        "id": "FcXBeP1O7cnY",
        "outputId": "d9aabb74-b593-4e8b-ec55-f35acfd1f3ee",
        "colab": {
          "base_uri": "https://localhost:8080/",
          "height": 329
        }
      },
      "source": [
        "# Intstall PyTorch and download data\n",
        "!pip3 install torch torchvision\n",
        "\n",
        "!wget -c http://ufldl.stanford.edu/housenumbers/train_32x32.mat http://ufldl.stanford.edu/housenumbers/test_32x32.mat"
      ],
      "execution_count": 1,
      "outputs": [
        {
          "output_type": "stream",
          "text": [
            "Requirement already satisfied: torch in /usr/local/lib/python3.6/dist-packages (1.6.0+cu101)\n",
            "Requirement already satisfied: torchvision in /usr/local/lib/python3.6/dist-packages (0.7.0+cu101)\n",
            "Requirement already satisfied: numpy in /usr/local/lib/python3.6/dist-packages (from torch) (1.18.5)\n",
            "Requirement already satisfied: future in /usr/local/lib/python3.6/dist-packages (from torch) (0.16.0)\n",
            "Requirement already satisfied: pillow>=4.1.1 in /usr/local/lib/python3.6/dist-packages (from torchvision) (7.0.0)\n",
            "--2020-09-30 13:45:26--  http://ufldl.stanford.edu/housenumbers/train_32x32.mat\n",
            "Resolving ufldl.stanford.edu (ufldl.stanford.edu)... 171.64.68.10\n",
            "Connecting to ufldl.stanford.edu (ufldl.stanford.edu)|171.64.68.10|:80... connected.\n",
            "HTTP request sent, awaiting response... 416 Requested Range Not Satisfiable\n",
            "\n",
            "    The file is already fully retrieved; nothing to do.\n",
            "\n",
            "--2020-09-30 13:45:26--  http://ufldl.stanford.edu/housenumbers/test_32x32.mat\n",
            "Reusing existing connection to ufldl.stanford.edu:80.\n",
            "HTTP request sent, awaiting response... 416 Requested Range Not Satisfiable\n",
            "\n",
            "    The file is already fully retrieved; nothing to do.\n",
            "\n"
          ],
          "name": "stdout"
        }
      ]
    },
    {
      "cell_type": "code",
      "metadata": {
        "id": "-afwWw-Q85vD"
      },
      "source": [
        "from collections import namedtuple\n",
        "\n",
        "import matplotlib.pyplot as plt\n",
        "import numpy as np\n",
        "import PIL\n",
        "import torch\n",
        "import torch.nn as nn\n",
        "import torch.optim as optim\n",
        "import torchvision.datasets as dset\n",
        "from torch.utils.data.sampler import SubsetRandomSampler\n",
        "\n",
        "from torchvision import transforms"
      ],
      "execution_count": 2,
      "outputs": []
    },
    {
      "cell_type": "code",
      "metadata": {
        "id": "NNU-OD9O9ltP"
      },
      "source": [
        "device = torch.device(\"cuda:0\") # Let's make sure GPU is available!"
      ],
      "execution_count": 3,
      "outputs": []
    },
    {
      "cell_type": "markdown",
      "metadata": {
        "id": "t__bmwV44mWg"
      },
      "source": [
        "# Загружаем данные"
      ]
    },
    {
      "cell_type": "code",
      "metadata": {
        "id": "YAvkoRx-9FsP"
      },
      "source": [
        "# First, lets load the dataset\n",
        "data_train = dset.SVHN('./', \n",
        "                       transform=transforms.Compose([\n",
        "                           transforms.ToTensor(),\n",
        "                           transforms.Normalize(mean=[0.43,0.44,0.47],\n",
        "                                               std=[0.20,0.20,0.20])                           \n",
        "                       ])\n",
        "                      )\n",
        "data_test = dset.SVHN('./', split='test', transform=transforms.Compose([\n",
        "                           transforms.ToTensor(),\n",
        "                           transforms.Normalize(mean=[0.43,0.44,0.47],\n",
        "                                               std=[0.20,0.20,0.20])                           \n",
        "                       ]))"
      ],
      "execution_count": 4,
      "outputs": []
    },
    {
      "cell_type": "markdown",
      "metadata": {
        "id": "HvDVvr_E4mWj"
      },
      "source": [
        "Разделяем данные на training и validation.\n",
        "\n",
        "На всякий случай для подробностей - https://pytorch.org/tutorials/beginner/data_loading_tutorial.html"
      ]
    },
    {
      "cell_type": "code",
      "metadata": {
        "id": "YRnr8CPg7Hli"
      },
      "source": [
        "batch_size = 64\n",
        "\n",
        "data_size = data_train.data.shape[0]\n",
        "validation_split = .2\n",
        "split = int(np.floor(validation_split * data_size))\n",
        "indices = list(range(data_size))\n",
        "np.random.shuffle(indices)\n",
        "\n",
        "train_indices, val_indices = indices[split:], indices[:split]\n",
        "\n",
        "train_sampler = SubsetRandomSampler(train_indices)\n",
        "val_sampler = SubsetRandomSampler(val_indices)\n",
        "\n",
        "train_loader = torch.utils.data.DataLoader(data_train, batch_size=batch_size, \n",
        "                                           sampler=train_sampler)\n",
        "val_loader = torch.utils.data.DataLoader(data_train, batch_size=batch_size,\n",
        "                                         sampler=val_sampler)"
      ],
      "execution_count": 5,
      "outputs": []
    },
    {
      "cell_type": "code",
      "metadata": {
        "id": "LyYvt-T67PBG"
      },
      "source": [
        "# We'll use a special helper module to shape it into a flat tensor\n",
        "class Flattener(nn.Module):\n",
        "    def forward(self, x):\n",
        "        batch_size, *_ = x.shape\n",
        "        return x.view(batch_size, -1)"
      ],
      "execution_count": 6,
      "outputs": []
    },
    {
      "cell_type": "markdown",
      "metadata": {
        "id": "HxJCthEq4mWo"
      },
      "source": [
        "Создадим простейшую сеть с новыми слоями:  \n",
        "Convolutional - `nn.Conv2d`  \n",
        "MaxPool - `nn.MaxPool2d`"
      ]
    },
    {
      "cell_type": "code",
      "metadata": {
        "id": "w9SFVGZP7SQd"
      },
      "source": [
        "nn_model = nn.Sequential(\n",
        "            nn.Conv2d(3, 64, 3, padding=1),\n",
        "            nn.ReLU(inplace=True),\n",
        "            nn.MaxPool2d(4),\n",
        "            nn.Conv2d(64, 64, 3, padding=1),\n",
        "            nn.ReLU(inplace=True),\n",
        "            nn.MaxPool2d(4),    \n",
        "            Flattener(),\n",
        "            nn.Linear(64*2*2, 10),\n",
        "          )\n",
        "\n",
        "nn_model.type(torch.cuda.FloatTensor)\n",
        "nn_model.to(device)\n",
        "\n",
        "loss = nn.CrossEntropyLoss().type(torch.cuda.FloatTensor)\n",
        "optimizer = optim.SGD(nn_model.parameters(), lr=1e-1, weight_decay=1e-4)"
      ],
      "execution_count": 7,
      "outputs": []
    },
    {
      "cell_type": "markdown",
      "metadata": {
        "id": "he_SGZXj4mWq"
      },
      "source": [
        "Восстановите функцию `compute_accuracy` из прошлого задания.  \n",
        "Единственное отличие в новом - она должна передать данные на GPU прежде чем прогонять через модель. Сделайте это так же, как это делает функция `train_model`"
      ]
    },
    {
      "cell_type": "code",
      "metadata": {
        "id": "2ek3KVQK7hJ6",
        "outputId": "a30fe3df-8d4a-43af-b45a-e828891854d6",
        "colab": {
          "base_uri": "https://localhost:8080/",
          "height": 104
        }
      },
      "source": [
        "def train_model(model, train_loader, val_loader, loss, optimizer, num_epochs):    \n",
        "    loss_history = []\n",
        "    train_history = []\n",
        "    val_history = []\n",
        "    for epoch in range(num_epochs):\n",
        "        model.train() # Enter train mode\n",
        "        \n",
        "        loss_accum = 0\n",
        "        correct_samples = 0\n",
        "        total_samples = 0\n",
        "        for i_step, (x, y) in enumerate(train_loader):\n",
        "          \n",
        "            x_gpu = x.to(device)\n",
        "            y_gpu = y.to(device)\n",
        "            prediction = model(x_gpu)    \n",
        "            loss_value = loss(prediction, y_gpu)\n",
        "            optimizer.zero_grad()\n",
        "            loss_value.backward()\n",
        "            optimizer.step()\n",
        "            \n",
        "            _, indices = torch.max(prediction, 1)\n",
        "            correct_samples += torch.sum(indices == y_gpu)\n",
        "            total_samples += y.shape[0]\n",
        "            \n",
        "            loss_accum += loss_value\n",
        "\n",
        "        ave_loss = loss_accum / i_step\n",
        "        train_accuracy = float(correct_samples) / total_samples\n",
        "        val_accuracy = compute_accuracy(model, val_loader)\n",
        "        \n",
        "        loss_history.append(float(ave_loss))\n",
        "        train_history.append(train_accuracy)\n",
        "        val_history.append(val_accuracy)\n",
        "        \n",
        "        print(\"Average loss: %f, Train accuracy: %f, Val accuracy: %f\" % (ave_loss, train_accuracy, val_accuracy))\n",
        "        \n",
        "    return loss_history, train_history, val_history\n",
        "        \n",
        "def compute_accuracy(model, loader):\n",
        "    \"\"\"\n",
        "    Computes accuracy on the dataset wrapped in a loader\n",
        "    \n",
        "    Returns: accuracy as a float value between 0 and 1\n",
        "    \"\"\"\n",
        "    model.eval() # Evaluation mode\n",
        "    # TODO: Copy implementation from previous assignment\n",
        "    # Don't forget to move the data to device before running it through the model!\n",
        "    total = 0\n",
        "    correct = 0\n",
        "    for x, y in val_loader:\n",
        "      x_gpu, y_gpu = x.to(device), y.to(device)\n",
        "\n",
        "      outputs = model(x_gpu)\n",
        "      _, pred = torch.max(outputs.data, 1)\n",
        "      total += y.size(0)\n",
        "      correct += (pred == y_gpu).sum().item()\n",
        "\n",
        "    return correct / total\n",
        "\n",
        "loss_history, train_history, val_history = train_model(nn_model, train_loader, val_loader, loss, optimizer, 5)"
      ],
      "execution_count": 8,
      "outputs": [
        {
          "output_type": "stream",
          "text": [
            "Average loss: 1.444417, Train accuracy: 0.517609, Val accuracy: 0.766228\n",
            "Average loss: 0.710719, Train accuracy: 0.784954, Val accuracy: 0.800696\n",
            "Average loss: 0.599104, Train accuracy: 0.820957, Val accuracy: 0.812641\n",
            "Average loss: 0.545259, Train accuracy: 0.836826, Val accuracy: 0.844925\n",
            "Average loss: 0.511205, Train accuracy: 0.846552, Val accuracy: 0.847724\n"
          ],
          "name": "stdout"
        }
      ]
    },
    {
      "cell_type": "markdown",
      "metadata": {
        "id": "6a-3a1ZFGEw_"
      },
      "source": [
        "# Аугментация данных (Data augmentation)\n",
        "\n",
        "В работе с изображениями одним из особенно важных методов является аугментация данных - то есть, генерация дополнительных данных для тренировки на основе изначальных.   \n",
        "Таким образом, мы получаем возможность \"увеличить\" набор данных для тренировки, что ведет к лучшей работе сети.\n",
        "Важно, чтобы аугментированные данные были похожи на те, которые могут встретиться в реальной жизни, иначе польза от аугментаций уменьшается и может ухудшить работу сети.\n",
        "\n",
        "С PyTorch идут несколько таких алгоритмов, называемых `transforms`. Более подробно про них можно прочитать тут -\n",
        "https://pytorch.org/tutorials/beginner/data_loading_tutorial.html#transforms\n",
        "\n",
        "Ниже мы используем следующие алгоритмы генерации:\n",
        "- ColorJitter - случайное изменение цвета\n",
        "- RandomHorizontalFlip - горизонтальное отражение с вероятностью 50%\n",
        "- RandomVerticalFlip - вертикальное отражение с вероятностью 50%\n",
        "- RandomRotation - случайный поворот"
      ]
    },
    {
      "cell_type": "code",
      "metadata": {
        "id": "jCWMUWmr7t5g"
      },
      "source": [
        "tfs = transforms.Compose([\n",
        "    transforms.ColorJitter(hue=.50, saturation=.50),\n",
        "    transforms.RandomHorizontalFlip(),\n",
        "    transforms.RandomVerticalFlip(),\n",
        "    transforms.RandomRotation(50, resample=PIL.Image.BILINEAR),\n",
        "    transforms.ToTensor(),\n",
        "    transforms.Normalize(mean=[0.43,0.44,0.47],\n",
        "                       std=[0.20,0.20,0.20])                           \n",
        "])\n",
        "\n",
        "# Create augmented train dataset\n",
        "data_aug_train = dset.SVHN('./', \n",
        "                       transform=tfs\n",
        "                      )\n",
        "\n",
        "train_aug_loader = torch.utils.data.DataLoader(data_aug_train, batch_size=batch_size, \n",
        "                                           sampler=train_sampler)"
      ],
      "execution_count": 9,
      "outputs": []
    },
    {
      "cell_type": "markdown",
      "metadata": {
        "id": "3TiSVezO4mWv"
      },
      "source": [
        "Визуализируем результаты агментации (вообще, смотреть на сгенерированные данные всегда очень полезно)."
      ]
    },
    {
      "cell_type": "code",
      "metadata": {
        "id": "YlJJEro1KZ45",
        "outputId": "cb6c9d0d-2e95-4b1e-a81e-fc4de3a2ac15",
        "colab": {
          "base_uri": "https://localhost:8080/",
          "height": 124
        }
      },
      "source": [
        "# TODO: Visualize some augmented images!\n",
        "# hint: you can create new datasets and loaders to accomplish this\n",
        "\n",
        "# Based on the visualizations, should we keep all the augmentations?\n",
        "\n",
        "tfs = transforms.Compose([\n",
        "    transforms.ColorJitter(hue=.20, saturation=.20),\n",
        "    transforms.RandomHorizontalFlip(),\n",
        "    transforms.RandomVerticalFlip(),\n",
        "    transforms.RandomRotation(10, resample=PIL.Image.BILINEAR),\n",
        "])\n",
        "\n",
        "data_aug_vis = dset.SVHN('./', \n",
        "                       transform=tfs\n",
        "                      )\n",
        "\n",
        "plt.figure(figsize=(30, 3))\n",
        "\n",
        "for i, (x, y) in enumerate(data_aug_vis):\n",
        "    if i == 10:\n",
        "        break\n",
        "    plt.subplot(1, 10, i+1)\n",
        "    plt.grid(False)\n",
        "    plt.imshow(x)\n",
        "    plt.axis('off')"
      ],
      "execution_count": 10,
      "outputs": [
        {
          "output_type": "display_data",
          "data": {
            "image/png": "[encoded data removed]",
            "text/plain": [
              "<Figure size 2160x216 with 10 Axes>"
            ]
          },
          "metadata": {
            "tags": [],
            "needs_background": "light"
          }
        }
      ]
    },
    {
      "cell_type": "markdown",
      "metadata": {
        "id": "o2LrmsYHoguB"
      },
      "source": [
        "Все ли агментации одинаково полезны на этом наборе данных? Могут ли быть среди них те, которые собьют модель с толку?\n",
        "\n",
        "Выберите из них только корректные"
      ]
    },
    {
      "cell_type": "code",
      "metadata": {
        "id": "evro9ksXGs9u"
      },
      "source": [
        "# TODO: \n",
        "tfs = transforms.Compose([\n",
        "    transforms.ColorJitter(hue=.20, saturation=.20),\n",
        "    transforms.RandomRotation(10, resample=PIL.Image.BILINEAR),\n",
        "    # TODO: Add good augmentations\n",
        "    transforms.ToTensor(),\n",
        "    transforms.Normalize(mean=[0.43,0.44,0.47],\n",
        "                       std=[0.20,0.20,0.20])                           \n",
        "])\n",
        "\n",
        "data_aug_train = dset.SVHN('./', \n",
        "                       transform=tfs\n",
        "                      )\n",
        "\n",
        "# TODO create new instances of loaders with the augmentations you chose\n",
        "train_aug_loader = torch.utils.data.DataLoader(data_aug_train, batch_size=batch_size, \n",
        "                                           sampler=train_sampler)"
      ],
      "execution_count": 11,
      "outputs": []
    },
    {
      "cell_type": "code",
      "metadata": {
        "id": "PeO6Zw0DHqPR",
        "outputId": "59e08dd5-1448-4cbe-e3d3-c36bc73933f8",
        "colab": {
          "base_uri": "https://localhost:8080/",
          "height": 104
        }
      },
      "source": [
        "# Finally, let's train with augmentations!\n",
        "\n",
        "# Note we shouldn't use augmentations on validation\n",
        "\n",
        "loss_history, train_history, val_history = train_model(nn_model, train_aug_loader, val_loader, loss, optimizer, 5)"
      ],
      "execution_count": 12,
      "outputs": [
        {
          "output_type": "stream",
          "text": [
            "Average loss: 0.605531, Train accuracy: 0.815036, Val accuracy: 0.837895\n",
            "Average loss: 0.554231, Train accuracy: 0.829949, Val accuracy: 0.843219\n",
            "Average loss: 0.533977, Train accuracy: 0.838464, Val accuracy: 0.853730\n",
            "Average loss: 0.516064, Train accuracy: 0.844521, Val accuracy: 0.845608\n",
            "Average loss: 0.508941, Train accuracy: 0.847200, Val accuracy: 0.835165\n"
          ],
          "name": "stdout"
        }
      ]
    },
    {
      "cell_type": "markdown",
      "metadata": {
        "id": "r0bcioK6JBDK"
      },
      "source": [
        "# LeNet\n",
        "Попробуем имплементировать классическую архитектуру сверточной нейронной сети, предложенную Яном ЛеКуном в 1998 году. В свое время она достигла впечатляющих результатов на MNIST, посмотрим как она справится с SVHN?\n",
        "Она описана в статье [\"Gradient Based Learning Applied to Document Recognition\"](http://yann.lecun.com/exdb/publis/pdf/lecun-01a.pdf), попробуйте прочитать ключевые части и имплементировать предложенную архитетуру на PyTorch.\n",
        "\n",
        "Реализовывать слои и функцию ошибки LeNet, которых нет в PyTorch, **не нужно** - просто возьмите их размеры и переведите в уже известные нам Convolutional, Pooling и Fully Connected layers.\n",
        "\n",
        "Если в статье не очень понятно, можно просто погуглить LeNet и разобраться в деталях :)"
      ]
    },
    {
      "cell_type": "code",
      "metadata": {
        "id": "ieEzZUglJAUB"
      },
      "source": [
        "# TODO: Implement LeNet-like architecture for SVHN task\n",
        "lenet_model = nn.Sequential(\n",
        "            nn.Conv2d(in_channels=3, out_channels=6, kernel_size=5, stride=1),\n",
        "            nn.ReLU(inplace=True),\n",
        "            nn.MaxPool2d(kernel_size=2),\n",
        "            nn.Conv2d(in_channels=6, out_channels=16, kernel_size=5, stride=1),\n",
        "            nn.ReLU(inplace=True),\n",
        "            nn.MaxPool2d(kernel_size=2), \n",
        "            nn.Conv2d(in_channels=16, out_channels=120, kernel_size=5, stride=1),\n",
        "            nn.ReLU(inplace=True),\n",
        "            Flattener(),\n",
        "            nn.Linear(in_features=120, out_features=84),\n",
        "            nn.ReLU(inplace=True),\n",
        "            nn.Linear(in_features=84, out_features=10),\n",
        "          )\n",
        "\n",
        "lenet_model.type(torch.cuda.FloatTensor)\n",
        "lenet_model.to(device)\n",
        "\n",
        "loss = nn.CrossEntropyLoss().type(torch.cuda.FloatTensor)\n",
        "optimizer = optim.SGD(lenet_model.parameters(), lr=1e-1, weight_decay=1e-4)"
      ],
      "execution_count": 13,
      "outputs": []
    },
    {
      "cell_type": "code",
      "metadata": {
        "id": "WMmaPfdeKk9H",
        "outputId": "cbf093dc-156d-451d-f1ab-eee4fef7c0bf",
        "colab": {
          "base_uri": "https://localhost:8080/",
          "height": 191
        }
      },
      "source": [
        "# Let's train it!\n",
        "loss_history, train_history, val_history = train_model(lenet_model, train_aug_loader, val_loader, loss, optimizer, 10)"
      ],
      "execution_count": 14,
      "outputs": [
        {
          "output_type": "stream",
          "text": [
            "Average loss: 1.380486, Train accuracy: 0.535594, Val accuracy: 0.816531\n",
            "Average loss: 0.569499, Train accuracy: 0.830205, Val accuracy: 0.857825\n",
            "Average loss: 0.471005, Train accuracy: 0.860202, Val accuracy: 0.870794\n",
            "Average loss: 0.418899, Train accuracy: 0.876020, Val accuracy: 0.870248\n",
            "Average loss: 0.385572, Train accuracy: 0.884995, Val accuracy: 0.891065\n",
            "Average loss: 0.361237, Train accuracy: 0.891359, Val accuracy: 0.877073\n",
            "Average loss: 0.341663, Train accuracy: 0.897604, Val accuracy: 0.894342\n",
            "Average loss: 0.322697, Train accuracy: 0.903730, Val accuracy: 0.894069\n",
            "Average loss: 0.314197, Train accuracy: 0.905675, Val accuracy: 0.898573\n",
            "Average loss: 0.293608, Train accuracy: 0.910709, Val accuracy: 0.893523\n"
          ],
          "name": "stdout"
        }
      ]
    },
    {
      "cell_type": "markdown",
      "metadata": {
        "id": "u_O9qiYySvuj"
      },
      "source": [
        "# Подбор гиперпараметров"
      ]
    },
    {
      "cell_type": "code",
      "metadata": {
        "id": "i6mhfdQ9K-N3",
        "outputId": "a280af3e-4784-459e-a75e-ca95a2fe62cd",
        "colab": {
          "base_uri": "https://localhost:8080/",
          "height": 1000
        }
      },
      "source": [
        "# The key hyperparameters we're going to tune are learning speed, annealing rate and regularization\n",
        "# We also encourage you to try different optimizers as well\n",
        "\n",
        "lenet_model = nn.Sequential(\n",
        "            nn.Conv2d(in_channels=3, out_channels=6, kernel_size=5, stride=1),\n",
        "            nn.ReLU(inplace=True),\n",
        "            nn.MaxPool2d(kernel_size=2),\n",
        "            nn.Conv2d(in_channels=6, out_channels=16, kernel_size=5, stride=1),\n",
        "            nn.ReLU(inplace=True),\n",
        "            nn.MaxPool2d(kernel_size=2), \n",
        "            nn.Conv2d(in_channels=16, out_channels=120, kernel_size=5, stride=1),\n",
        "            nn.ReLU(inplace=True),\n",
        "            Flattener(),\n",
        "            nn.Linear(in_features=120, out_features=84),\n",
        "            nn.ReLU(inplace=True),\n",
        "            nn.Linear(in_features=84, out_features=10),\n",
        "          )\n",
        "\n",
        "lenet_model.type(torch.cuda.FloatTensor)\n",
        "lenet_model.to(device)\n",
        "\n",
        "loss = nn.CrossEntropyLoss().type(torch.cuda.FloatTensor)\n",
        "\n",
        "Hyperparams = namedtuple(\"Hyperparams\", ['learning_rate', 'reg'])\n",
        "RunResult = namedtuple(\"RunResult\", ['model', 'train_history', 'val_history', 'final_val_accuracy'])\n",
        "\n",
        "learning_rates = [1e-1, 1e-2, 1e-3, 1e-4]\n",
        "anneal_coeff = 0.2\n",
        "anneal_epochs = [1, 5, 10, 15, 20, 50]\n",
        "reg = [1e-3, 1e-4, 1e-5]\n",
        "\n",
        "batch_size = 64\n",
        "epoch_num = 5\n",
        "\n",
        "# Record all the runs here\n",
        "# Key should be Hyperparams and values should be RunResult\n",
        "run_record = {} \n",
        "\n",
        "# Use grid search or random search and record all runs in run_record dictionnary \n",
        "# Important: perform search in logarithmic space!\n",
        "\n",
        "# TODO: Your code here!\n",
        "\n",
        "for learning_rate in learning_rates:\n",
        "    for wd in reg:\n",
        "        print(\"lr: %f, wd: %f\" % (learning_rate, wd))\n",
        "        optimizer = optim.SGD(lenet_model.parameters(), lr=learning_rate, weight_decay=wd)\n",
        "        loss_history, train_history, val_history = train_model(lenet_model, train_aug_loader, val_loader, loss, optimizer, epoch_num)\n",
        "        run_record[Hyperparams(learning_rate, wd)] = RunResult(lenet_model, train_history, val_history, val_history[-1])"
      ],
      "execution_count": 15,
      "outputs": [
        {
          "output_type": "stream",
          "text": [
            "lr: 0.100000, wd: 0.001000\n",
            "Average loss: 1.402334, Train accuracy: 0.523086, Val accuracy: 0.825268\n",
            "Average loss: 0.569154, Train accuracy: 0.828652, Val accuracy: 0.851751\n",
            "Average loss: 0.474592, Train accuracy: 0.857643, Val accuracy: 0.868337\n",
            "Average loss: 0.429214, Train accuracy: 0.870389, Val accuracy: 0.873524\n",
            "Average loss: 0.400282, Train accuracy: 0.880183, Val accuracy: 0.882124\n",
            "lr: 0.100000, wd: 0.000100\n",
            "Average loss: 0.369702, Train accuracy: 0.889755, Val accuracy: 0.883148\n",
            "Average loss: 0.349831, Train accuracy: 0.894874, Val accuracy: 0.887789\n",
            "Average loss: 0.329372, Train accuracy: 0.900556, Val accuracy: 0.893386\n",
            "Average loss: 0.314328, Train accuracy: 0.905283, Val accuracy: 0.896867\n",
            "Average loss: 0.302301, Train accuracy: 0.908900, Val accuracy: 0.894069\n",
            "lr: 0.100000, wd: 0.000010\n",
            "Average loss: 0.288575, Train accuracy: 0.912057, Val accuracy: 0.899802\n",
            "Average loss: 0.280332, Train accuracy: 0.913302, Val accuracy: 0.906901\n",
            "Average loss: 0.268079, Train accuracy: 0.919001, Val accuracy: 0.899051\n",
            "Average loss: 0.259530, Train accuracy: 0.920401, Val accuracy: 0.902874\n",
            "Average loss: 0.252608, Train accuracy: 0.921919, Val accuracy: 0.899597\n",
            "lr: 0.010000, wd: 0.001000\n",
            "Average loss: 0.188560, Train accuracy: 0.943231, Val accuracy: 0.912770\n",
            "Average loss: 0.175063, Train accuracy: 0.946541, Val accuracy: 0.913316\n",
            "Average loss: 0.165782, Train accuracy: 0.950483, Val accuracy: 0.913248\n",
            "Average loss: 0.160616, Train accuracy: 0.951473, Val accuracy: 0.913863\n",
            "Average loss: 0.161012, Train accuracy: 0.951148, Val accuracy: 0.913658\n",
            "lr: 0.010000, wd: 0.000100\n",
            "Average loss: 0.155112, Train accuracy: 0.953674, Val accuracy: 0.914409\n",
            "Average loss: 0.151349, Train accuracy: 0.954049, Val accuracy: 0.916661\n",
            "Average loss: 0.149259, Train accuracy: 0.955329, Val accuracy: 0.915091\n",
            "Average loss: 0.147056, Train accuracy: 0.955431, Val accuracy: 0.913043\n",
            "Average loss: 0.145637, Train accuracy: 0.957086, Val accuracy: 0.913521\n",
            "lr: 0.010000, wd: 0.000010\n",
            "Average loss: 0.142380, Train accuracy: 0.957001, Val accuracy: 0.914340\n",
            "Average loss: 0.141023, Train accuracy: 0.957325, Val accuracy: 0.915501\n",
            "Average loss: 0.138038, Train accuracy: 0.958298, Val accuracy: 0.914204\n",
            "Average loss: 0.135381, Train accuracy: 0.959851, Val accuracy: 0.914067\n",
            "Average loss: 0.132356, Train accuracy: 0.960516, Val accuracy: 0.915228\n",
            "lr: 0.001000, wd: 0.001000\n",
            "Average loss: 0.127836, Train accuracy: 0.962154, Val accuracy: 0.914818\n",
            "Average loss: 0.124263, Train accuracy: 0.962751, Val accuracy: 0.915023\n",
            "Average loss: 0.128091, Train accuracy: 0.960994, Val accuracy: 0.915364\n",
            "Average loss: 0.124004, Train accuracy: 0.962990, Val accuracy: 0.915159\n",
            "Average loss: 0.124965, Train accuracy: 0.962461, Val accuracy: 0.915569\n",
            "lr: 0.001000, wd: 0.000100\n",
            "Average loss: 0.124887, Train accuracy: 0.963280, Val accuracy: 0.915432\n",
            "Average loss: 0.124935, Train accuracy: 0.962529, Val accuracy: 0.915296\n",
            "Average loss: 0.123612, Train accuracy: 0.962325, Val accuracy: 0.915296\n",
            "Average loss: 0.124204, Train accuracy: 0.962820, Val accuracy: 0.915364\n",
            "Average loss: 0.123310, Train accuracy: 0.962461, Val accuracy: 0.915296\n",
            "lr: 0.001000, wd: 0.000010\n",
            "Average loss: 0.124016, Train accuracy: 0.963041, Val accuracy: 0.915569\n",
            "Average loss: 0.123275, Train accuracy: 0.962700, Val accuracy: 0.915228\n",
            "Average loss: 0.123084, Train accuracy: 0.962581, Val accuracy: 0.915637\n",
            "Average loss: 0.123126, Train accuracy: 0.962871, Val accuracy: 0.915228\n",
            "Average loss: 0.122923, Train accuracy: 0.963331, Val accuracy: 0.915364\n",
            "lr: 0.000100, wd: 0.001000\n",
            "Average loss: 0.121116, Train accuracy: 0.963417, Val accuracy: 0.915569\n",
            "Average loss: 0.121116, Train accuracy: 0.962888, Val accuracy: 0.915501\n",
            "Average loss: 0.121078, Train accuracy: 0.964219, Val accuracy: 0.915774\n",
            "Average loss: 0.120549, Train accuracy: 0.963894, Val accuracy: 0.915705\n",
            "Average loss: 0.120876, Train accuracy: 0.963297, Val accuracy: 0.915774\n",
            "lr: 0.000100, wd: 0.000100\n",
            "Average loss: 0.123240, Train accuracy: 0.962478, Val accuracy: 0.915842\n",
            "Average loss: 0.122423, Train accuracy: 0.963314, Val accuracy: 0.915774\n",
            "Average loss: 0.121312, Train accuracy: 0.964014, Val accuracy: 0.915774\n",
            "Average loss: 0.120955, Train accuracy: 0.963826, Val accuracy: 0.915910\n",
            "Average loss: 0.121454, Train accuracy: 0.963792, Val accuracy: 0.915910\n",
            "lr: 0.000100, wd: 0.000010\n",
            "Average loss: 0.120141, Train accuracy: 0.963502, Val accuracy: 0.915842\n",
            "Average loss: 0.121154, Train accuracy: 0.963502, Val accuracy: 0.915774\n",
            "Average loss: 0.119680, Train accuracy: 0.964799, Val accuracy: 0.915501\n",
            "Average loss: 0.121720, Train accuracy: 0.963297, Val accuracy: 0.915501\n",
            "Average loss: 0.119697, Train accuracy: 0.963997, Val accuracy: 0.915569\n"
          ],
          "name": "stdout"
        }
      ]
    },
    {
      "cell_type": "code",
      "metadata": {
        "id": "Y6xExdw8JB1l",
        "outputId": "d04c1d42-0797-44d6-b923-ec3a836fb99e",
        "colab": {
          "base_uri": "https://localhost:8080/",
          "height": 35
        }
      },
      "source": [
        "best_val_accuracy = None\n",
        "best_hyperparams = None\n",
        "best_run = None\n",
        "\n",
        "for hyperparams, run_result in run_record.items():\n",
        "    if best_val_accuracy is None or best_val_accuracy < run_result.final_val_accuracy:\n",
        "        best_val_accuracy = run_result.final_val_accuracy\n",
        "        best_hyperparams = hyperparams\n",
        "        best_run = run_result\n",
        "        \n",
        "print(\"Best validation accuracy: %4.2f, best hyperparams: %s\" % (best_val_accuracy, best_hyperparams))\n",
        "        "
      ],
      "execution_count": 16,
      "outputs": [
        {
          "output_type": "stream",
          "text": [
            "Best validation accuracy: 0.92, best hyperparams: Hyperparams(learning_rate=0.0001, reg=0.0001)\n"
          ],
          "name": "stdout"
        }
      ]
    },
    {
      "cell_type": "markdown",
      "metadata": {
        "id": "LOmsR0uVgtgf"
      },
      "source": [
        "# Свободное упражнение - догоним и перегоним LeNet!\n",
        "\n",
        "Попробуйте найти архитектуру и настройки тренировки, чтобы выступить лучше наших бейзлайнов.\n",
        "\n",
        "Что можно и нужно попробовать:\n",
        "- BatchNormalization (для convolution layers он в PyTorch называется [batchnorm2d](https://pytorch.org/docs/stable/nn.html#batchnorm2d))\n",
        "- Изменить количество слоев и их толщину\n",
        "- Изменять количество эпох тренировки\n",
        "- Попробовать и другие агментации"
      ]
    },
    {
      "cell_type": "code",
      "metadata": {
        "id": "tSVhD747icoc",
        "outputId": "673f7402-d754-402e-b5db-a8ac9f373147",
        "colab": {
          "base_uri": "https://localhost:8080/",
          "height": 1000
        }
      },
      "source": [
        "best_model = nn.Sequential(\n",
        "            nn.Conv2d(in_channels=3, out_channels=6, kernel_size=7, stride=1, padding=1),\n",
        "            nn.ReLU(inplace=True),\n",
        "            nn.BatchNorm2d(6),\n",
        "            nn.MaxPool2d(kernel_size=2),\n",
        "            nn.Conv2d(in_channels=6, out_channels=16, kernel_size=7, stride=1, padding=1),\n",
        "            nn.ReLU(inplace=True),\n",
        "            nn.BatchNorm2d(16),\n",
        "            nn.MaxPool2d(kernel_size=2), \n",
        "            nn.Conv2d(in_channels=16, out_channels=120, kernel_size=7, stride=1, padding=1),\n",
        "            nn.ReLU(inplace=True),\n",
        "            nn.BatchNorm2d(120),\n",
        "            Flattener(),\n",
        "            nn.Linear(in_features=120, out_features=84),\n",
        "            nn.ReLU(inplace=True),\n",
        "            nn.BatchNorm1d(84),\n",
        "            nn.Linear(in_features=84, out_features=10),\n",
        "          )\n",
        "\n",
        "best_model.type(torch.cuda.FloatTensor)\n",
        "best_model.to(device)\n",
        "\n",
        "tfs = transforms.Compose([\n",
        "    transforms.ColorJitter(hue=.50, saturation=.50),\n",
        "    transforms.RandomRotation(20, resample=PIL.Image.BILINEAR),\n",
        "    transforms.ToTensor(),\n",
        "    transforms.Normalize(mean=[0.43,0.44,0.47],\n",
        "                       std=[0.20,0.20,0.20])                           \n",
        "])\n",
        "\n",
        "data_aug_train = dset.SVHN('./', \n",
        "                       transform=tfs\n",
        "                      )\n",
        "\n",
        "train_aug_loader = torch.utils.data.DataLoader(data_aug_train, batch_size=batch_size, \n",
        "                                           sampler=train_sampler)\n",
        "\n",
        "Hyperparams = namedtuple(\"Hyperparams\", ['learning_rate', 'reg'])\n",
        "RunResult = namedtuple(\"RunResult\", ['model', 'train_history', 'val_history', 'final_val_accuracy'])\n",
        "run_record = {} \n",
        "learning_rates = [1e-1, 1e-2, 1e-3, 1e-4]\n",
        "reg = [1e-3, 1e-4, 1e-5]\n",
        "\n",
        "loss = nn.CrossEntropyLoss().type(torch.cuda.FloatTensor)\n",
        "for learning_rate in learning_rates:\n",
        "    for wd in reg:\n",
        "        print(\"lr: %f, wd: %f\" % (learning_rate, wd))\n",
        "        optimizer = optim.SGD(best_model.parameters(), lr=learning_rate, weight_decay=wd)\n",
        "        loss_history, train_history, val_history = train_model(best_model, train_aug_loader, val_loader, loss, optimizer, 10)\n",
        "        run_record[Hyperparams(learning_rate, wd)] = RunResult(best_model, train_history, val_history, val_history[-1])\n",
        "\n",
        "best_val_accuracy = None\n",
        "best_hyperparams = None\n",
        "for hyperparams, run_result in run_record.items():\n",
        "    if best_val_accuracy is None or best_val_accuracy < run_result.final_val_accuracy:\n",
        "        best_val_accuracy = run_result.final_val_accuracy\n",
        "        best_model = run_result.model\n",
        "        best_hyperparams = hyperparams\n",
        "\n",
        "print(\"Best validation accuracy: %4.2f, best hyperparams: %s\" % (best_val_accuracy, best_hyperparams))"
      ],
      "execution_count": 18,
      "outputs": [
        {
          "output_type": "stream",
          "text": [
            "lr: 0.100000, wd: 0.001000\n",
            "Average loss: 0.852790, Train accuracy: 0.723714, Val accuracy: 0.854959\n",
            "Average loss: 0.524091, Train accuracy: 0.835699, Val accuracy: 0.876322\n",
            "Average loss: 0.464750, Train accuracy: 0.856602, Val accuracy: 0.879940\n",
            "Average loss: 0.434377, Train accuracy: 0.866550, Val accuracy: 0.888677\n",
            "Average loss: 0.412754, Train accuracy: 0.872539, Val accuracy: 0.892021\n",
            "Average loss: 0.396008, Train accuracy: 0.877504, Val accuracy: 0.892294\n",
            "Average loss: 0.385631, Train accuracy: 0.880627, Val accuracy: 0.896526\n",
            "Average loss: 0.377200, Train accuracy: 0.883766, Val accuracy: 0.900689\n",
            "Average loss: 0.370649, Train accuracy: 0.886189, Val accuracy: 0.897550\n",
            "Average loss: 0.366447, Train accuracy: 0.886991, Val accuracy: 0.898300\n",
            "lr: 0.100000, wd: 0.000100\n",
            "Average loss: 0.353248, Train accuracy: 0.891342, Val accuracy: 0.902396\n",
            "Average loss: 0.340256, Train accuracy: 0.894942, Val accuracy: 0.905262\n",
            "Average loss: 0.327758, Train accuracy: 0.898935, Val accuracy: 0.902805\n",
            "Average loss: 0.320325, Train accuracy: 0.901273, Val accuracy: 0.910109\n",
            "Average loss: 0.307418, Train accuracy: 0.904924, Val accuracy: 0.910450\n",
            "Average loss: 0.302194, Train accuracy: 0.907160, Val accuracy: 0.910518\n",
            "Average loss: 0.295287, Train accuracy: 0.908968, Val accuracy: 0.907924\n",
            "Average loss: 0.289096, Train accuracy: 0.910862, Val accuracy: 0.910928\n",
            "Average loss: 0.282506, Train accuracy: 0.912364, Val accuracy: 0.911201\n",
            "Average loss: 0.279455, Train accuracy: 0.914360, Val accuracy: 0.912702\n",
            "lr: 0.100000, wd: 0.000010\n",
            "Average loss: 0.273309, Train accuracy: 0.915674, Val accuracy: 0.910245\n",
            "Average loss: 0.270411, Train accuracy: 0.916613, Val accuracy: 0.912156\n",
            "Average loss: 0.264089, Train accuracy: 0.919172, Val accuracy: 0.910109\n",
            "Average loss: 0.257461, Train accuracy: 0.918814, Val accuracy: 0.912839\n",
            "Average loss: 0.258629, Train accuracy: 0.919360, Val accuracy: 0.914682\n",
            "Average loss: 0.253511, Train accuracy: 0.920878, Val accuracy: 0.913316\n",
            "Average loss: 0.246971, Train accuracy: 0.922534, Val accuracy: 0.914477\n",
            "Average loss: 0.243859, Train accuracy: 0.924701, Val accuracy: 0.916797\n",
            "Average loss: 0.240318, Train accuracy: 0.925366, Val accuracy: 0.910928\n",
            "Average loss: 0.235121, Train accuracy: 0.927704, Val accuracy: 0.911337\n",
            "lr: 0.010000, wd: 0.001000\n",
            "Average loss: 0.208363, Train accuracy: 0.936696, Val accuracy: 0.918231\n",
            "Average loss: 0.197623, Train accuracy: 0.939887, Val accuracy: 0.920415\n",
            "Average loss: 0.191983, Train accuracy: 0.941917, Val accuracy: 0.919391\n",
            "Average loss: 0.190555, Train accuracy: 0.943078, Val accuracy: 0.918845\n",
            "Average loss: 0.188381, Train accuracy: 0.942770, Val accuracy: 0.918572\n",
            "Average loss: 0.186690, Train accuracy: 0.943521, Val accuracy: 0.919732\n",
            "Average loss: 0.187507, Train accuracy: 0.942890, Val accuracy: 0.919391\n",
            "Average loss: 0.181713, Train accuracy: 0.944511, Val accuracy: 0.918709\n",
            "Average loss: 0.184636, Train accuracy: 0.943862, Val accuracy: 0.918845\n",
            "Average loss: 0.182769, Train accuracy: 0.944443, Val accuracy: 0.919732\n",
            "lr: 0.010000, wd: 0.000100\n",
            "Average loss: 0.179355, Train accuracy: 0.945893, Val accuracy: 0.919664\n",
            "Average loss: 0.177802, Train accuracy: 0.944869, Val accuracy: 0.920074\n",
            "Average loss: 0.177060, Train accuracy: 0.946319, Val accuracy: 0.917617\n",
            "Average loss: 0.177274, Train accuracy: 0.944784, Val accuracy: 0.918709\n",
            "Average loss: 0.174788, Train accuracy: 0.947002, Val accuracy: 0.918299\n",
            "Average loss: 0.175680, Train accuracy: 0.945944, Val accuracy: 0.919664\n",
            "Average loss: 0.171942, Train accuracy: 0.946866, Val accuracy: 0.918640\n",
            "Average loss: 0.171296, Train accuracy: 0.947514, Val accuracy: 0.918709\n",
            "Average loss: 0.171133, Train accuracy: 0.947292, Val accuracy: 0.918845\n",
            "Average loss: 0.172046, Train accuracy: 0.947514, Val accuracy: 0.917821\n",
            "lr: 0.010000, wd: 0.000010\n",
            "Average loss: 0.165957, Train accuracy: 0.948691, Val accuracy: 0.918367\n",
            "Average loss: 0.170528, Train accuracy: 0.947787, Val accuracy: 0.918982\n",
            "Average loss: 0.166801, Train accuracy: 0.948026, Val accuracy: 0.918913\n",
            "Average loss: 0.168062, Train accuracy: 0.947036, Val accuracy: 0.918299\n",
            "Average loss: 0.165634, Train accuracy: 0.947463, Val accuracy: 0.919459\n",
            "Average loss: 0.166892, Train accuracy: 0.949169, Val accuracy: 0.919459\n",
            "Average loss: 0.168870, Train accuracy: 0.947104, Val accuracy: 0.919186\n",
            "Average loss: 0.163125, Train accuracy: 0.949084, Val accuracy: 0.917753\n",
            "Average loss: 0.165592, Train accuracy: 0.948282, Val accuracy: 0.919596\n",
            "Average loss: 0.163428, Train accuracy: 0.950176, Val accuracy: 0.917480\n",
            "lr: 0.001000, wd: 0.001000\n",
            "Average loss: 0.161531, Train accuracy: 0.950125, Val accuracy: 0.918094\n",
            "Average loss: 0.156927, Train accuracy: 0.951677, Val accuracy: 0.917958\n",
            "Average loss: 0.157900, Train accuracy: 0.950773, Val accuracy: 0.918367\n",
            "Average loss: 0.155345, Train accuracy: 0.952292, Val accuracy: 0.919596\n",
            "Average loss: 0.157222, Train accuracy: 0.951080, Val accuracy: 0.918367\n",
            "Average loss: 0.157026, Train accuracy: 0.952172, Val accuracy: 0.918982\n",
            "Average loss: 0.156140, Train accuracy: 0.950688, Val accuracy: 0.918640\n",
            "Average loss: 0.156888, Train accuracy: 0.951046, Val accuracy: 0.918572\n",
            "Average loss: 0.155725, Train accuracy: 0.951575, Val accuracy: 0.919118\n",
            "Average loss: 0.158628, Train accuracy: 0.950363, Val accuracy: 0.919255\n",
            "lr: 0.001000, wd: 0.000100\n",
            "Average loss: 0.156828, Train accuracy: 0.950944, Val accuracy: 0.918572\n",
            "Average loss: 0.156526, Train accuracy: 0.951711, Val accuracy: 0.919459\n",
            "Average loss: 0.154216, Train accuracy: 0.952343, Val accuracy: 0.919801\n",
            "Average loss: 0.155581, Train accuracy: 0.951558, Val accuracy: 0.919050\n",
            "Average loss: 0.157860, Train accuracy: 0.951746, Val accuracy: 0.918026\n",
            "Average loss: 0.158015, Train accuracy: 0.951558, Val accuracy: 0.919118\n",
            "Average loss: 0.156877, Train accuracy: 0.951916, Val accuracy: 0.918913\n",
            "Average loss: 0.156176, Train accuracy: 0.951728, Val accuracy: 0.919118\n",
            "Average loss: 0.156551, Train accuracy: 0.951694, Val accuracy: 0.919391\n",
            "Average loss: 0.156505, Train accuracy: 0.951370, Val accuracy: 0.918845\n",
            "lr: 0.001000, wd: 0.000010\n",
            "Average loss: 0.155310, Train accuracy: 0.952087, Val accuracy: 0.918777\n",
            "Average loss: 0.153768, Train accuracy: 0.952019, Val accuracy: 0.918572\n",
            "Average loss: 0.156270, Train accuracy: 0.951182, Val accuracy: 0.919323\n",
            "Average loss: 0.154175, Train accuracy: 0.952752, Val accuracy: 0.919732\n",
            "Average loss: 0.152008, Train accuracy: 0.953964, Val accuracy: 0.919801\n",
            "Average loss: 0.155208, Train accuracy: 0.951728, Val accuracy: 0.919323\n",
            "Average loss: 0.152824, Train accuracy: 0.953896, Val accuracy: 0.918913\n",
            "Average loss: 0.154027, Train accuracy: 0.951950, Val accuracy: 0.920278\n",
            "Average loss: 0.153398, Train accuracy: 0.952496, Val accuracy: 0.918504\n",
            "Average loss: 0.156557, Train accuracy: 0.952257, Val accuracy: 0.918913\n",
            "lr: 0.000100, wd: 0.001000\n",
            "Average loss: 0.152622, Train accuracy: 0.953367, Val accuracy: 0.919186\n",
            "Average loss: 0.154056, Train accuracy: 0.952377, Val accuracy: 0.919323\n",
            "Average loss: 0.154438, Train accuracy: 0.952019, Val accuracy: 0.918299\n",
            "Average loss: 0.155040, Train accuracy: 0.952292, Val accuracy: 0.919732\n",
            "Average loss: 0.153718, Train accuracy: 0.951285, Val accuracy: 0.919186\n",
            "Average loss: 0.154910, Train accuracy: 0.951916, Val accuracy: 0.918913\n",
            "Average loss: 0.152222, Train accuracy: 0.953674, Val accuracy: 0.918231\n",
            "Average loss: 0.153722, Train accuracy: 0.952752, Val accuracy: 0.919869\n",
            "Average loss: 0.153436, Train accuracy: 0.952019, Val accuracy: 0.919186\n",
            "Average loss: 0.153961, Train accuracy: 0.951899, Val accuracy: 0.918982\n",
            "lr: 0.000100, wd: 0.000100\n",
            "Average loss: 0.154153, Train accuracy: 0.952530, Val accuracy: 0.918845\n",
            "Average loss: 0.154218, Train accuracy: 0.952974, Val accuracy: 0.918367\n",
            "Average loss: 0.152990, Train accuracy: 0.952821, Val accuracy: 0.919596\n",
            "Average loss: 0.154606, Train accuracy: 0.952257, Val accuracy: 0.918709\n",
            "Average loss: 0.154749, Train accuracy: 0.952616, Val accuracy: 0.917685\n",
            "Average loss: 0.153597, Train accuracy: 0.952633, Val accuracy: 0.918709\n",
            "Average loss: 0.152124, Train accuracy: 0.952257, Val accuracy: 0.918504\n",
            "Average loss: 0.153947, Train accuracy: 0.952752, Val accuracy: 0.919050\n",
            "Average loss: 0.154158, Train accuracy: 0.952548, Val accuracy: 0.918777\n",
            "Average loss: 0.154247, Train accuracy: 0.952036, Val accuracy: 0.920005\n",
            "lr: 0.000100, wd: 0.000010\n",
            "Average loss: 0.152241, Train accuracy: 0.952428, Val accuracy: 0.918640\n",
            "Average loss: 0.152448, Train accuracy: 0.952974, Val accuracy: 0.919664\n",
            "Average loss: 0.153378, Train accuracy: 0.952940, Val accuracy: 0.918094\n",
            "Average loss: 0.150130, Train accuracy: 0.953076, Val accuracy: 0.918026\n",
            "Average loss: 0.154850, Train accuracy: 0.952599, Val accuracy: 0.919528\n",
            "Average loss: 0.156753, Train accuracy: 0.951882, Val accuracy: 0.918640\n",
            "Average loss: 0.151711, Train accuracy: 0.952462, Val accuracy: 0.918026\n",
            "Average loss: 0.153979, Train accuracy: 0.951848, Val accuracy: 0.919869\n",
            "Average loss: 0.153987, Train accuracy: 0.952582, Val accuracy: 0.919459\n",
            "Average loss: 0.153159, Train accuracy: 0.952957, Val accuracy: 0.919186\n",
            "Best validation accuracy: 0.92, best hyperparams: Hyperparams(learning_rate=0.0001, reg=0.0001)\n"
          ],
          "name": "stdout"
        }
      ]
    },
    {
      "cell_type": "markdown",
      "metadata": {
        "id": "ubeKgBcnhx7N"
      },
      "source": [
        "# Финальный аккорд - проверим лучшую модель на test set\n",
        "\n",
        "В качестве разнообразия - напишите код для прогона модели на test set вы.\n",
        "\n",
        "В результате вы должны натренировать модель, которая покажет более **90%** точности на test set.  \n",
        "Как водится, лучший результат в группе получит дополнительные баллы!"
      ]
    },
    {
      "cell_type": "code",
      "metadata": {
        "id": "EIqM1kdeh-hd",
        "outputId": "4d524df1-f7cb-45b7-bc7b-4973dc1e317b",
        "colab": {
          "base_uri": "https://localhost:8080/",
          "height": 35
        }
      },
      "source": [
        "# TODO Write the code to compute accuracy on test set\n",
        "test_loader = torch.utils.data.DataLoader(data_test, batch_size=batch_size)\n",
        "final_test_accuracy = compute_accuracy(best_model, test_loader)\n",
        "print(\"Final test accuracy - \", final_test_accuracy)"
      ],
      "execution_count": 19,
      "outputs": [
        {
          "output_type": "stream",
          "text": [
            "Final test accuracy -  0.9191864036584534\n"
          ],
          "name": "stdout"
        }
      ]
    },
    {
      "cell_type": "code",
      "metadata": {
        "id": "BfH6qip6kVX_"
      },
      "source": [
        ""
      ],
      "execution_count": null,
      "outputs": []
    }
  ]
}