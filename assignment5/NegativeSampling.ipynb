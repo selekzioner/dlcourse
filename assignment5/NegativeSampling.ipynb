{
  "nbformat": 4,
  "nbformat_minor": 0,
  "metadata": {
    "kernelspec": {
      "display_name": "Python 3",
      "language": "python",
      "name": "python3"
    },
    "language_info": {
      "codemirror_mode": {
        "name": "ipython",
        "version": 3
      },
      "file_extension": ".py",
      "mimetype": "text/x-python",
      "name": "python",
      "nbconvert_exporter": "python",
      "pygments_lexer": "ipython3",
      "version": "3.7.0"
    },
    "colab": {
      "name": "NegativeSampling.ipynb",
      "provenance": [],
      "collapsed_sections": [],
      "toc_visible": true
    }
  },
  "cells": [
    {
      "cell_type": "markdown",
      "metadata": {
        "id": "GK_bmBw9hd0L"
      },
      "source": [
        "# Задание 5.2 - Word2Vec with Negative Sampling\n",
        "\n",
        "В этом задании мы натренируем свои версию word vectors с negative sampling на том же небольшом датасете.\n",
        "\n",
        "\n",
        "Несмотря на то, что основная причина использования Negative Sampling - улучшение скорости тренировки word2vec, в нашем игрушечном примере мы **не требуем** улучшения производительности. Мы используем negative sampling просто как дополнительное упражнение для знакомства с PyTorch.\n",
        "\n",
        "Перед запуском нужно запустить скрипт `download_data.sh`, чтобы скачать данные.\n",
        "\n",
        "Датасет и модель очень небольшие, поэтому это задание можно выполнить и без GPU.\n",
        "\n"
      ]
    },
    {
      "cell_type": "code",
      "metadata": {
        "id": "E4MCGdKehd0T"
      },
      "source": [
        "import torch\n",
        "import torch.nn as nn\n",
        "import torch.optim as optim\n",
        "from torch.utils.data import Dataset\n",
        "\n",
        "import random\n",
        "\n",
        "from torchvision import transforms\n",
        "\n",
        "import numpy as np\n",
        "import matplotlib.pyplot as plt\n",
        "\n",
        "# We'll use Principal Component Analysis (PCA) to visualize word vectors,\n",
        "# so make sure you install dependencies from requirements.txt!\n",
        "from sklearn.decomposition import PCA \n",
        "\n",
        "%matplotlib inline"
      ],
      "execution_count": null,
      "outputs": []
    },
    {
      "cell_type": "code",
      "metadata": {
        "colab": {
          "base_uri": "https://localhost:8080/"
        },
        "id": "UxqBYyF36TLF",
        "outputId": "a75c2a02-aa8f-4abf-e8f6-40ce72654f25"
      },
      "source": [
        "!wget http://nlp.stanford.edu/~socherr/stanfordSentimentTreebank.zip\n",
        "!unzip stanfordSentimentTreebank.zip"
      ],
      "execution_count": null,
      "outputs": [
        {
          "output_type": "stream",
          "text": [
            "--2021-05-14 19:17:38--  http://nlp.stanford.edu/~socherr/stanfordSentimentTreebank.zip\n",
            "Resolving nlp.stanford.edu (nlp.stanford.edu)... 171.64.67.140\n",
            "Connecting to nlp.stanford.edu (nlp.stanford.edu)|171.64.67.140|:80... connected.\n",
            "HTTP request sent, awaiting response... 302 Found\n",
            "Location: https://nlp.stanford.edu/~socherr/stanfordSentimentTreebank.zip [following]\n",
            "--2021-05-14 19:17:38--  https://nlp.stanford.edu/~socherr/stanfordSentimentTreebank.zip\n",
            "Connecting to nlp.stanford.edu (nlp.stanford.edu)|171.64.67.140|:443... connected.\n",
            "HTTP request sent, awaiting response... 200 OK\n",
            "Length: 6372817 (6.1M) [application/zip]\n",
            "Saving to: ‘stanfordSentimentTreebank.zip.3’\n",
            "\n",
            "stanfordSentimentTr 100%[===================>]   6.08M  5.08MB/s    in 1.2s    \n",
            "\n",
            "2021-05-14 19:17:39 (5.08 MB/s) - ‘stanfordSentimentTreebank.zip.3’ saved [6372817/6372817]\n",
            "\n",
            "Archive:  stanfordSentimentTreebank.zip\n",
            "replace stanfordSentimentTreebank/datasetSentences.txt? [y]es, [n]o, [A]ll, [N]one, [r]ename: n\n",
            "replace __MACOSX/stanfordSentimentTreebank/._datasetSentences.txt? [y]es, [n]o, [A]ll, [N]one, [r]ename: n\n",
            "replace stanfordSentimentTreebank/datasetSplit.txt? [y]es, [n]o, [A]ll, [N]one, [r]ename: n\n",
            "replace __MACOSX/stanfordSentimentTreebank/._datasetSplit.txt? [y]es, [n]o, [A]ll, [N]one, [r]ename: n\n",
            "replace stanfordSentimentTreebank/dictionary.txt? [y]es, [n]o, [A]ll, [N]one, [r]ename: n\n",
            "replace __MACOSX/stanfordSentimentTreebank/._dictionary.txt? [y]es, [n]o, [A]ll, [N]one, [r]ename: n\n",
            "replace stanfordSentimentTreebank/original_rt_snippets.txt? [y]es, [n]o, [A]ll, [N]one, [r]ename: n\n",
            "replace __MACOSX/stanfordSentimentTreebank/._original_rt_snippets.txt? [y]es, [n]o, [A]ll, [N]one, [r]ename: n\n",
            "replace stanfordSentimentTreebank/README.txt? [y]es, [n]o, [A]ll, [N]one, [r]ename: n\n",
            "replace __MACOSX/stanfordSentimentTreebank/._README.txt? [y]es, [n]o, [A]ll, [N]one, [r]ename: n\n",
            "replace stanfordSentimentTreebank/sentiment_labels.txt? [y]es, [n]o, [A]ll, [N]one, [r]ename: n\n",
            "replace __MACOSX/stanfordSentimentTreebank/._sentiment_labels.txt? [y]es, [n]o, [A]ll, [N]one, [r]ename: n\n",
            "replace stanfordSentimentTreebank/SOStr.txt? [y]es, [n]o, [A]ll, [N]one, [r]ename: n\n",
            "replace stanfordSentimentTreebank/STree.txt? [y]es, [n]o, [A]ll, [N]one, [r]ename: n\n"
          ],
          "name": "stdout"
        }
      ]
    },
    {
      "cell_type": "code",
      "metadata": {
        "scrolled": false,
        "colab": {
          "base_uri": "https://localhost:8080/"
        },
        "id": "pZQ-pV0ahd0U",
        "outputId": "a09a73ab-5a79-4ae9-89a0-09c0595fa724"
      },
      "source": [
        "import os\n",
        "import numpy as np\n",
        "\n",
        "class StanfordTreeBank:\n",
        "    def __init__(self):\n",
        "        self.index_by_token = {} # map of string -> token index\n",
        "        self.token_by_index = []\n",
        "\n",
        "        self.sentences = []\n",
        "\n",
        "        self.token_freq = {}\n",
        "        \n",
        "        self.token_reject_by_index = None\n",
        "\n",
        "    def load_dataset(self, folder):\n",
        "        filename = os.path.join(folder, \"datasetSentences.txt\")\n",
        "\n",
        "        with open(filename, \"r\", encoding=\"latin1\") as f:\n",
        "            l = f.readline() # skip the first line\n",
        "            \n",
        "            for l in f:\n",
        "                splitted_line = l.strip().split()\n",
        "                words = [w.lower() for w in splitted_line[1:]] # First one is a number\n",
        "                    \n",
        "                self.sentences.append(words)\n",
        "                for word in words:\n",
        "                    if word in self.token_freq:\n",
        "                        self.token_freq[word] +=1 \n",
        "                    else:\n",
        "                        index = len(self.token_by_index)\n",
        "                        self.token_freq[word] = 1\n",
        "                        self.index_by_token[word] = index\n",
        "                        self.token_by_index.append(word)\n",
        "        self.compute_token_prob()\n",
        "                        \n",
        "    def compute_token_prob(self):\n",
        "        words_count = np.array([self.token_freq[token] for token in self.token_by_index])\n",
        "        words_freq = words_count / np.sum(words_count)\n",
        "        \n",
        "        # Following sampling strategy from word2vec paper\n",
        "        self.token_reject_by_index = 1- np.sqrt(1e-5/words_freq)\n",
        "    \n",
        "    def check_reject(self, word):\n",
        "        return np.random.rand() > self.token_reject_by_index[self.index_by_token[word]]\n",
        "        \n",
        "    def get_random_context(self, context_length=5):\n",
        "        sentence_sampled = []\n",
        "        while len(sentence_sampled) <= 2:\n",
        "            sentence_index = np.random.randint(len(self.sentences)) \n",
        "            sentence = self.sentences[sentence_index]\n",
        "            sentence_sampled = [word for word in sentence if self.check_reject(word)]\n",
        "    \n",
        "        center_word_index = np.random.randint(len(sentence_sampled))\n",
        "        \n",
        "        words_before = sentence_sampled[max(center_word_index - context_length//2,0):center_word_index]\n",
        "        words_after = sentence_sampled[center_word_index+1: center_word_index+1+context_length//2]\n",
        "        \n",
        "        return sentence_sampled[center_word_index], words_before+words_after\n",
        "    \n",
        "    def num_tokens(self):\n",
        "        return len(self.token_by_index)\n",
        "        \n",
        "data = StanfordTreeBank()\n",
        "data.load_dataset(\"./stanfordSentimentTreebank/\")\n",
        "\n",
        "print(\"Num tokens:\", data.num_tokens())\n",
        "for i in range(5):\n",
        "    center_word, other_words = data.get_random_context(5)\n",
        "    print(center_word, other_words)"
      ],
      "execution_count": null,
      "outputs": [
        {
          "output_type": "stream",
          "text": [
            "Num tokens: 19538\n",
            "novel ['alan', 'warner', 'answer', 'irvine']\n",
            "lolita ['spooky', 'sulky', 'turn']\n",
            "it ['cutes', 'nor']\n",
            "noir ['salton', 'works', 'keeping', 'nasty']\n",
            "landscapes ['against', 'frozen', 'grenoble', 'geneva']\n"
          ],
          "name": "stdout"
        }
      ]
    },
    {
      "cell_type": "markdown",
      "metadata": {
        "id": "daAYY247hd0V"
      },
      "source": [
        "# Dataset для Negative Sampling должен быть немного другим\n",
        "\n",
        "Как и прежде, Dataset должен сгенерировать много случайных контекстов и превратить их в сэмплы для тренировки.\n",
        "\n",
        "Здесь мы реализуем прямой проход модели сами, поэтому выдавать данные можно в удобном нам виде.\n",
        "Напоминаем, что в случае negative sampling каждым сэмплом является:\n",
        "- вход: слово в one-hot представлении\n",
        "- выход: набор из одного целевого слова и K других случайных слов из словаря.\n",
        "Вместо softmax + cross-entropy loss, сеть обучается через binary cross-entropy loss - то есть, предсказывает набор бинарных переменных, для каждой из которых функция ошибки считается независимо.\n",
        "\n",
        "Для целевого слова бинарное предсказание должно быть позитивным, а для K случайных слов - негативным.\n",
        "\n",
        "Из набора слово-контекст создается N сэмплов (где N - количество слов в контексте), в каждом из них K+1 целевых слов, для только одного из которых предсказание должно быть позитивным.\n",
        "Например, для K=2:\n",
        "\n",
        "Слово: `orders` и контекст: `['love', 'nicest', 'to', '50-year']` создадут 4 сэмпла:\n",
        "- input: `orders`, target: `[love: 1, any: 0, rose: 0]`\n",
        "- input: `orders`, target: `[nicest: 1, fool: 0, grass: 0]`\n",
        "- input: `orders`, target: `[to: 1, -: 0, the: 0]`\n",
        "- input: `orders`, target: `[50-year: 1, ?: 0, door: 0]`\n",
        "\n",
        "Все слова на входе и на выходе закодированы через one-hot encoding, с размером вектора равным количеству токенов."
      ]
    },
    {
      "cell_type": "code",
      "metadata": {
        "colab": {
          "base_uri": "https://localhost:8080/"
        },
        "id": "RFb4r278hd0W",
        "outputId": "6a7b2b68-fd3e-4d47-ef5e-cf0abf5e0468"
      },
      "source": [
        "num_negative_samples = 10\n",
        "\n",
        "class Word2VecNegativeSampling(Dataset):\n",
        "    def __init__(self, data, num_negative_samples, num_contexts=30000):\n",
        "        self.data = data\n",
        "        self.samples = None\n",
        "        self.num_contexts = num_contexts\n",
        "        self.num_tokens = len(self.data.index_by_token)\n",
        "        self.num_negative_samples = num_negative_samples\n",
        "    \n",
        "    def generate_dataset(self, context_length=5):\n",
        "        self.samples = []\n",
        "        for i in range(self.num_contexts):\n",
        "            center_word, other_words = self.data.get_random_context(context_length)\n",
        "            for word in other_words:\n",
        "                negative_indices = []\n",
        "                while len(negative_indices) < num_negative_samples:\n",
        "                    generated_index = random.randrange(self.num_tokens)\n",
        "                    generated_word = self.data.token_by_index[generated_index]\n",
        "                    if not (generated_word in other_words):\n",
        "                        negative_indices.append(generated_index)\n",
        "                \n",
        "                self.samples.append((self.data.index_by_token[center_word], [self.data.index_by_token[word], *negative_indices]))\n",
        "        \n",
        "    def __len__(self):\n",
        "        return len(self.samples)\n",
        "\n",
        "    \n",
        "    def __getitem__(self, index):\n",
        "        input_vector, output = self.samples[index]\n",
        "\n",
        "        output_indices = torch.tensor(output)\n",
        "        output_target = torch.zeros_like(output_indices)\n",
        "        output_target[0] = 1.0\n",
        "        \n",
        "        return input_vector, output_indices, output_target\n",
        "\n",
        "dataset = Word2VecNegativeSampling(data, num_negative_samples, 10)\n",
        "dataset.generate_dataset()\n",
        "input_vector, output_indices, output_target = dataset[0]\n",
        "\n",
        "print(\"Sample - input: %s, output indices: %s, output target: %s\" % (int(input_vector), output_indices, output_target)) # target should be able to convert to int\n",
        "assert isinstance(output_indices, torch.Tensor)\n",
        "assert output_indices.shape[0] == num_negative_samples+1\n",
        "\n",
        "assert isinstance(output_target, torch.Tensor)\n",
        "assert output_target.shape[0] == num_negative_samples+1\n",
        "assert torch.sum(output_target) == 1.0"
      ],
      "execution_count": null,
      "outputs": [
        {
          "output_type": "stream",
          "text": [
            "Sample - input: 8667, output indices: tensor([ 1091, 13184, 12082,  5582,  5129, 14636,  8669,  3874, 16505,  7028,\n",
            "        18749]), output target: tensor([1, 0, 0, 0, 0, 0, 0, 0, 0, 0, 0])\n"
          ],
          "name": "stdout"
        }
      ]
    },
    {
      "cell_type": "markdown",
      "metadata": {
        "id": "vMuBNHAShd0W"
      },
      "source": [
        "# Создаем модель\n",
        "\n",
        "Для нашей задачи нам придется реализовать свою собственную PyTorch модель.\n",
        "Эта модель реализует свой собственный прямой проход (forward pass), который получает на вход индекс входного слова и набор индексов для выходных слов. \n",
        "\n",
        "Как всегда, на вход приходит не один сэмпл, а целый batch.  \n",
        "Напомним, что цели улучшить скорость тренировки у нас нет, достаточно чтобы она сходилась."
      ]
    },
    {
      "cell_type": "code",
      "metadata": {
        "colab": {
          "base_uri": "https://localhost:8080/"
        },
        "id": "josN87GChd0X",
        "outputId": "f63edd99-2384-4eed-b248-79df9850c710"
      },
      "source": [
        "# Create the usual PyTorch structures\n",
        "dataset = Word2VecNegativeSampling(data, num_negative_samples, 30000)\n",
        "dataset.generate_dataset()\n",
        "\n",
        "# As before, we'll be training very small word vectors!\n",
        "wordvec_dim = 10\n",
        "\n",
        "class Word2VecNegativeSamples(nn.Module):\n",
        "    def __init__(self, num_tokens):\n",
        "        super(Word2VecNegativeSamples, self).__init__()\n",
        "        self.input = nn.Linear(num_tokens, 10, bias=False)\n",
        "        self.ouput = nn.Linear(10, num_tokens, bias=False)\n",
        "        self.num_tokens = num_tokens\n",
        "        \n",
        "    def forward(self, input_index_batch, output_indices_batch):\n",
        "        results = []\n",
        "        for input_index, output_index in zip(input_index_batch, output_indices_batch):\n",
        "            sample = torch.zeros(self.num_tokens)\n",
        "            sample[input_index] = 1.0\n",
        "\n",
        "            input_results = self.input(sample)\n",
        "            output_results = self.ouput(input_results)\n",
        "            results.append(output_results[output_index])\n",
        "        results_tensor = torch.stack(results)\n",
        "        \n",
        "        return results_tensor\n",
        "    \n",
        "nn_model = Word2VecNegativeSamples(data.num_tokens())\n",
        "nn_model.type(torch.FloatTensor)"
      ],
      "execution_count": null,
      "outputs": [
        {
          "output_type": "execute_result",
          "data": {
            "text/plain": [
              "Word2VecNegativeSamples(\n",
              "  (input): Linear(in_features=19538, out_features=10, bias=False)\n",
              "  (ouput): Linear(in_features=10, out_features=19538, bias=False)\n",
              ")"
            ]
          },
          "metadata": {
            "tags": []
          },
          "execution_count": 5
        }
      ]
    },
    {
      "cell_type": "code",
      "metadata": {
        "id": "FfUiogYPhd0X"
      },
      "source": [
        "def extract_word_vectors(nn_model):\n",
        "    input_vectors, output_vectors = nn_model.input.weight.T, nn_model.ouput.weight\n",
        "    return torch.clone(input_vectors), torch.clone(output_vectors)\n",
        "\n",
        "untrained_input_vectors, untrained_output_vectors = extract_word_vectors(nn_model)\n",
        "assert untrained_input_vectors.shape == (data.num_tokens(), wordvec_dim)\n",
        "assert untrained_output_vectors.shape == (data.num_tokens(), wordvec_dim)"
      ],
      "execution_count": null,
      "outputs": []
    },
    {
      "cell_type": "code",
      "metadata": {
        "id": "oU86S7TGhd0Y"
      },
      "source": [
        "def train_neg_sample(model, dataset, train_loader, optimizer, scheduler, num_epochs):    \n",
        "    loss = nn.BCEWithLogitsLoss().type(torch.FloatTensor)\n",
        "    loss_history = []\n",
        "    train_history = []\n",
        "\n",
        "    for epoch in range(num_epochs):\n",
        "        model.train() # Enter train mode\n",
        "        \n",
        "        loss_accum = 0\n",
        "        correct = 0\n",
        "        total = 0\n",
        "        for i_step, (x_i, x_o, y) in enumerate(train_loader):\n",
        "            prediction = model(x_i, x_o)\n",
        "            y = y.type_as(prediction)\n",
        "            loss_value = loss(prediction, y)\n",
        "            optimizer.zero_grad()\n",
        "            loss_value.backward()\n",
        "            optimizer.step()\n",
        "            \n",
        "            _, indices = torch.max(prediction, 1)\n",
        "            correct += torch.sum(indices == 0)\n",
        "            total += y.shape[0]\n",
        "            \n",
        "            loss_accum += loss_value\n",
        "\n",
        "        \n",
        "        scheduler.step()\n",
        "\n",
        "        ave_loss = loss_accum / i_step\n",
        "        train_accuracy = float(correct) / total\n",
        "        \n",
        "        loss_history.append(float(ave_loss))\n",
        "        train_history.append(train_accuracy)\n",
        "\n",
        "        dataset.generate_dataset()\n",
        "        train_loader = torch.utils.data.DataLoader(dataset, batch_size=20)\n",
        "        \n",
        "        print(\"Epoch %i, Average loss: %f, Train accuracy: %f\" % (epoch, ave_loss, train_accuracy))\n",
        "        \n",
        "    return loss_history, train_history"
      ],
      "execution_count": null,
      "outputs": []
    },
    {
      "cell_type": "markdown",
      "metadata": {
        "id": "V8z7LI9vhd0Y"
      },
      "source": [
        "# Ну и наконец тренировка!\n",
        "\n",
        "Добейтесь значения ошибки меньше **0.25**."
      ]
    },
    {
      "cell_type": "code",
      "metadata": {
        "id": "C5tEMNVdhd0Y",
        "colab": {
          "base_uri": "https://localhost:8080/"
        },
        "outputId": "b05892a5-3644-40dc-c162-e2856637314d"
      },
      "source": [
        "optimizer = optim.SGD(nn_model.parameters(), lr=2e1, weight_decay=0)\n",
        "scheduler = optim.lr_scheduler.StepLR(optimizer, step_size=4, gamma=0.9)\n",
        "train_loader = torch.utils.data.DataLoader(dataset, batch_size=10)\n",
        "\n",
        "loss_history, train_history = train_neg_sample(nn_model, dataset, train_loader, optimizer, scheduler, 40)"
      ],
      "execution_count": null,
      "outputs": [
        {
          "output_type": "stream",
          "text": [
            "Epoch 0, Average loss: 0.661884, Train accuracy: 0.119967\n",
            "Epoch 1, Average loss: 0.424231, Train accuracy: 0.241266\n",
            "Epoch 2, Average loss: 0.324943, Train accuracy: 0.286314\n",
            "Epoch 3, Average loss: 0.296920, Train accuracy: 0.296871\n",
            "Epoch 4, Average loss: 0.285262, Train accuracy: 0.304183\n",
            "Epoch 5, Average loss: 0.277790, Train accuracy: 0.312756\n",
            "Epoch 6, Average loss: 0.273816, Train accuracy: 0.315736\n",
            "Epoch 7, Average loss: 0.271127, Train accuracy: 0.317290\n",
            "Epoch 8, Average loss: 0.269085, Train accuracy: 0.323593\n",
            "Epoch 9, Average loss: 0.266633, Train accuracy: 0.331398\n",
            "Epoch 10, Average loss: 0.264259, Train accuracy: 0.338699\n",
            "Epoch 11, Average loss: 0.261736, Train accuracy: 0.347012\n",
            "Epoch 12, Average loss: 0.259521, Train accuracy: 0.353402\n",
            "Epoch 13, Average loss: 0.256833, Train accuracy: 0.365079\n",
            "Epoch 14, Average loss: 0.255851, Train accuracy: 0.367092\n",
            "Epoch 15, Average loss: 0.253276, Train accuracy: 0.377102\n",
            "Epoch 16, Average loss: 0.250887, Train accuracy: 0.386506\n",
            "Epoch 17, Average loss: 0.247464, Train accuracy: 0.400895\n",
            "Epoch 18, Average loss: 0.245752, Train accuracy: 0.407149\n",
            "Epoch 19, Average loss: 0.243138, Train accuracy: 0.416924\n",
            "Epoch 20, Average loss: 0.241367, Train accuracy: 0.421602\n",
            "Epoch 21, Average loss: 0.238542, Train accuracy: 0.434621\n",
            "Epoch 22, Average loss: 0.236704, Train accuracy: 0.441916\n",
            "Epoch 23, Average loss: 0.234661, Train accuracy: 0.445683\n",
            "Epoch 24, Average loss: 0.232840, Train accuracy: 0.457025\n",
            "Epoch 25, Average loss: 0.230443, Train accuracy: 0.461745\n",
            "Epoch 26, Average loss: 0.229048, Train accuracy: 0.469567\n",
            "Epoch 27, Average loss: 0.227547, Train accuracy: 0.475430\n",
            "Epoch 28, Average loss: 0.225782, Train accuracy: 0.477567\n",
            "Epoch 29, Average loss: 0.223117, Train accuracy: 0.491108\n",
            "Epoch 30, Average loss: 0.221839, Train accuracy: 0.493848\n",
            "Epoch 31, Average loss: 0.220586, Train accuracy: 0.497563\n",
            "Epoch 32, Average loss: 0.219039, Train accuracy: 0.502595\n",
            "Epoch 33, Average loss: 0.217972, Train accuracy: 0.510597\n",
            "Epoch 34, Average loss: 0.216647, Train accuracy: 0.509846\n",
            "Epoch 35, Average loss: 0.215085, Train accuracy: 0.517164\n",
            "Epoch 36, Average loss: 0.214445, Train accuracy: 0.517934\n",
            "Epoch 37, Average loss: 0.212579, Train accuracy: 0.524794\n",
            "Epoch 38, Average loss: 0.211577, Train accuracy: 0.527320\n",
            "Epoch 39, Average loss: 0.210089, Train accuracy: 0.531207\n"
          ],
          "name": "stdout"
        }
      ]
    },
    {
      "cell_type": "code",
      "metadata": {
        "colab": {
          "base_uri": "https://localhost:8080/",
          "height": 265
        },
        "id": "MXgY4sPghd0Z",
        "outputId": "84326b3c-2e46-4df6-d0c9-199172fe67e4"
      },
      "source": [
        "# Visualize training graphs\n",
        "plt.subplot(211)\n",
        "plt.plot(train_history)\n",
        "plt.subplot(212)\n",
        "plt.plot(loss_history)\n",
        "plt.show()"
      ],
      "execution_count": null,
      "outputs": [
        {
          "output_type": "display_data",
          "data": {
            "image/png": "[encoded data removed]",
            "text/plain": [
              "<Figure size 432x288 with 2 Axes>"
            ]
          },
          "metadata": {
            "tags": [],
            "needs_background": "light"
          }
        }
      ]
    },
    {
      "cell_type": "markdown",
      "metadata": {
        "id": "kjAxQfUJhd0Z"
      },
      "source": [
        "# Визуализируем вектора для разного вида слов до и после тренировки\n",
        "\n",
        "Как и ранее, в случае успешной тренировки вы должны увидеть как вектора слов разных типов (например, знаков препинания, предлогов и остальных)"
      ]
    },
    {
      "cell_type": "code",
      "metadata": {
        "colab": {
          "base_uri": "https://localhost:8080/",
          "height": 941
        },
        "id": "6HLxHmAfhd0a",
        "outputId": "b1268276-c7c0-4031-b758-bfe7609c6919"
      },
      "source": [
        "trained_input_vectors, trained_output_vectors = extract_word_vectors(nn_model)\n",
        "assert trained_input_vectors.shape == (data.num_tokens(), wordvec_dim)\n",
        "assert trained_output_vectors.shape == (data.num_tokens(), wordvec_dim)\n",
        "\n",
        "def visualize_vectors(input_vectors, output_vectors, title=''):\n",
        "    full_vectors = torch.cat((input_vectors, output_vectors), 0)\n",
        "    wordvec_embedding = PCA(n_components=2).fit_transform(full_vectors.detach().numpy())\n",
        "\n",
        "    # Helpful words form CS244D example\n",
        "    # http://cs224d.stanford.edu/assignment1/index.html\n",
        "    visualize_words = {'green': [\"the\", \"a\", \"an\"], \n",
        "                      'blue': [\",\", \".\", \"?\", \"!\", \"``\", \"''\", \"--\"], \n",
        "                      'brown': [\"good\", \"great\", \"cool\", \"brilliant\", \"wonderful\", \n",
        "                              \"well\", \"amazing\", \"worth\", \"sweet\", \"enjoyable\"],\n",
        "                      'orange': [\"boring\", \"bad\", \"waste\", \"dumb\", \"annoying\", \"stupid\"],\n",
        "                      'red': ['tell', 'told', 'said', 'say', 'says', 'tells', 'goes', 'go', 'went']\n",
        "                     }\n",
        "\n",
        "    plt.figure(figsize=(7,7))\n",
        "    plt.suptitle(title)\n",
        "    for color, words in visualize_words.items():\n",
        "        points = np.array([wordvec_embedding[data.index_by_token[w]] for w in words])\n",
        "        for i, word in enumerate(words):\n",
        "            plt.text(points[i, 0], points[i, 1], word, color=color,horizontalalignment='center')\n",
        "        plt.scatter(points[:, 0], points[:, 1], c=color, alpha=0.3, s=0.5)\n",
        "\n",
        "visualize_vectors(untrained_input_vectors, untrained_output_vectors, \"Untrained word vectors\")\n",
        "visualize_vectors(trained_input_vectors, trained_output_vectors, \"Trained word vectors\")"
      ],
      "execution_count": null,
      "outputs": [
        {
          "output_type": "display_data",
          "data": {
            "image/png": "[encoded data removed]",
            "text/plain": [
              "<Figure size 504x504 with 1 Axes>"
            ]
          },
          "metadata": {
            "tags": [],
            "needs_background": "light"
          }
        },
        {
          "output_type": "display_data",
          "data": {
            "image/png": "[encoded data removed]",
            "text/plain": [
              "<Figure size 504x504 with 1 Axes>"
            ]
          },
          "metadata": {
            "tags": [],
            "needs_background": "light"
          }
        }
      ]
    },
    {
      "cell_type": "code",
      "metadata": {
        "id": "5NdKhltahd0a"
      },
      "source": [
        ""
      ],
      "execution_count": null,
      "outputs": []
    }
  ]
}