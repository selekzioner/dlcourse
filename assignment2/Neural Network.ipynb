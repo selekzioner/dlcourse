{
 "cells": [
  {
   "cell_type": "markdown",
   "metadata": {},
   "source": [
    "# Задание 2.1 - Нейронные сети\n",
    "\n",
    "В этом задании вы реализуете и натренируете настоящую нейроную сеть своими руками!\n",
    "\n",
    "В некотором смысле это будет расширением прошлого задания - нам нужно просто составить несколько линейных классификаторов вместе!\n",
    "\n",
    "<img src=\"https://i.redd.it/n9fgba8b0qr01.png\" alt=\"Stack_more_layers\" width=\"400px\"/>"
   ]
  },
  {
   "cell_type": "code",
   "execution_count": 1,
   "metadata": {},
   "outputs": [],
   "source": [
    "import numpy as np\n",
    "import matplotlib.pyplot as plt\n",
    "\n",
    "%matplotlib inline\n",
    "\n",
    "%load_ext autoreload\n",
    "%autoreload 2"
   ]
  },
  {
   "cell_type": "code",
   "execution_count": 2,
   "metadata": {},
   "outputs": [],
   "source": [
    "from dataset import load_svhn, random_split_train_val\n",
    "from gradient_check import check_layer_gradient, check_layer_param_gradient, check_model_gradient\n",
    "from layers import FullyConnectedLayer, ReLULayer\n",
    "from model import TwoLayerNet\n",
    "from trainer import Trainer, Dataset\n",
    "from optim import SGD, MomentumSGD\n",
    "from metrics import multiclass_accuracy"
   ]
  },
  {
   "cell_type": "markdown",
   "metadata": {},
   "source": [
    "# Загружаем данные\n",
    "\n",
    "И разделяем их на training и validation."
   ]
  },
  {
   "cell_type": "code",
   "execution_count": 3,
   "metadata": {},
   "outputs": [],
   "source": [
    "def prepare_for_neural_network(train_X, test_X):\n",
    "    train_flat = train_X.reshape(train_X.shape[0], -1).astype(np.float) / 255.0\n",
    "    test_flat = test_X.reshape(test_X.shape[0], -1).astype(np.float) / 255.0\n",
    "    \n",
    "    # Subtract mean\n",
    "    mean_image = np.mean(train_flat, axis = 0)\n",
    "    train_flat -= mean_image\n",
    "    test_flat -= mean_image\n",
    "    \n",
    "    return train_flat, test_flat\n",
    "    \n",
    "train_X, train_y, test_X, test_y = load_svhn(\"data\", max_train=10000, max_test=1000)    \n",
    "train_X, test_X = prepare_for_neural_network(train_X, test_X)\n",
    "# Split train into train and val\n",
    "train_X, train_y, val_X, val_y = random_split_train_val(train_X, train_y, num_val = 1000)"
   ]
  },
  {
   "cell_type": "markdown",
   "metadata": {},
   "source": [
    "# Как всегда, начинаем с кирпичиков\n",
    "\n",
    "Мы будем реализовывать необходимые нам слои по очереди. Каждый слой должен реализовать:\n",
    "- прямой проход (forward pass), который генерирует выход слоя по входу и запоминает необходимые данные\n",
    "- обратный проход (backward pass), который получает градиент по выходу слоя и вычисляет градиент по входу и по параметрам\n",
    "\n",
    "Начнем с ReLU, у которого параметров нет."
   ]
  },
  {
   "cell_type": "code",
   "execution_count": 4,
   "metadata": {
    "scrolled": false
   },
   "outputs": [
    {
     "name": "stdout",
     "output_type": "stream",
     "text": [
      "Gradient check passed!\n"
     ]
    }
   ],
   "source": [
    "# TODO: Implement ReLULayer layer in layers.py\n",
    "# Note: you'll need to copy implementation of the gradient_check function from the previous assignment\n",
    "\n",
    "X = np.array([[1,-2,3],\n",
    "              [-1, 2, 0.1]\n",
    "              ])\n",
    "\n",
    "assert check_layer_gradient(ReLULayer(), X)"
   ]
  },
  {
   "cell_type": "markdown",
   "metadata": {},
   "source": [
    "А теперь реализуем полносвязный слой (fully connected layer), у которого будет два массива параметров: W (weights) и B (bias).\n",
    "\n",
    "Все параметры наши слои будут использовать для параметров специальный класс `Param`, в котором будут храниться значения параметров и градиенты этих параметров, вычисляемые во время обратного прохода.\n",
    "\n",
    "Это даст возможность аккумулировать (суммировать) градиенты из разных частей функции потерь, например, из cross-entropy loss и regularization loss."
   ]
  },
  {
   "cell_type": "code",
   "execution_count": 5,
   "metadata": {},
   "outputs": [
    {
     "name": "stdout",
     "output_type": "stream",
     "text": [
      "Gradient check passed!\n",
      "Gradient check passed!\n",
      "Gradient check passed!\n"
     ]
    }
   ],
   "source": [
    "# TODO: Implement FullyConnected layer forward and backward methods\n",
    "assert check_layer_gradient(FullyConnectedLayer(3, 4), X)\n",
    "# TODO: Implement storing gradients for W and B\n",
    "assert check_layer_param_gradient(FullyConnectedLayer(3, 4), X, 'W')\n",
    "assert check_layer_param_gradient(FullyConnectedLayer(3, 4), X, 'B')"
   ]
  },
  {
   "cell_type": "markdown",
   "metadata": {},
   "source": [
    "## Создаем нейронную сеть\n",
    "\n",
    "Теперь мы реализуем простейшую нейронную сеть с двумя полносвязным слоями и нелинейностью ReLU. Реализуйте функцию `compute_loss_and_gradients`, она должна запустить прямой и обратный проход через оба слоя для вычисления градиентов.\n",
    "\n",
    "Не забудьте реализовать очистку градиентов в начале функции."
   ]
  },
  {
   "cell_type": "code",
   "execution_count": 6,
   "metadata": {},
   "outputs": [
    {
     "name": "stdout",
     "output_type": "stream",
     "text": [
      "Checking gradient for W1\n",
      "Gradient check passed!\n",
      "Checking gradient for B1\n",
      "Gradient check passed!\n",
      "Checking gradient for W2\n",
      "Gradient check passed!\n",
      "Checking gradient for B2\n",
      "Gradient check passed!\n"
     ]
    },
    {
     "data": {
      "text/plain": [
       "True"
      ]
     },
     "execution_count": 6,
     "metadata": {},
     "output_type": "execute_result"
    }
   ],
   "source": [
    "# TODO: In model.py, implement compute_loss_and_gradients function\n",
    "model = TwoLayerNet(n_input = train_X.shape[1], n_output = 10, hidden_layer_size = 3, reg = 0)\n",
    "loss = model.compute_loss_and_gradients(train_X[:2], train_y[:2])\n",
    "\n",
    "# TODO Now implement backward pass and aggregate all of the params\n",
    "check_model_gradient(model, train_X[:2], train_y[:2])"
   ]
  },
  {
   "cell_type": "markdown",
   "metadata": {},
   "source": [
    "Теперь добавьте к модели регуляризацию - она должна прибавляться к loss и делать свой вклад в градиенты."
   ]
  },
  {
   "cell_type": "code",
   "execution_count": 7,
   "metadata": {},
   "outputs": [
    {
     "name": "stdout",
     "output_type": "stream",
     "text": [
      "Checking gradient for W1\n",
      "Gradient check passed!\n",
      "Checking gradient for B1\n",
      "Gradient check passed!\n",
      "Checking gradient for W2\n",
      "Gradient check passed!\n",
      "Checking gradient for B2\n",
      "Gradient check passed!\n"
     ]
    },
    {
     "data": {
      "text/plain": [
       "True"
      ]
     },
     "execution_count": 7,
     "metadata": {},
     "output_type": "execute_result"
    }
   ],
   "source": [
    "# TODO Now implement l2 regularization in the forward and backward pass\n",
    "model_with_reg = TwoLayerNet(n_input = train_X.shape[1], n_output = 10, hidden_layer_size = 3, reg = 1e1)\n",
    "loss_with_reg = model_with_reg.compute_loss_and_gradients(train_X[:2], train_y[:2])\n",
    "assert loss_with_reg > loss and not np.isclose(loss_with_reg, loss), \\\n",
    "    \"Loss with regularization (%2.4f) should be higher than without it (%2.4f)!\" % (loss, loss_with_reg)\n",
    "\n",
    "check_model_gradient(model_with_reg, train_X[:2], train_y[:2])"
   ]
  },
  {
   "cell_type": "markdown",
   "metadata": {},
   "source": [
    "Также реализуем функцию предсказания (вычисления значения) модели на новых данных.\n",
    "\n",
    "Какое значение точности мы ожидаем увидеть до начала тренировки?"
   ]
  },
  {
   "cell_type": "code",
   "execution_count": 8,
   "metadata": {},
   "outputs": [
    {
     "data": {
      "text/plain": [
       "0.1"
      ]
     },
     "execution_count": 8,
     "metadata": {},
     "output_type": "execute_result"
    }
   ],
   "source": [
    "# Finally, implement predict function!\n",
    "\n",
    "# TODO: Implement predict function\n",
    "# What would be the value we expect?\n",
    "multiclass_accuracy(model_with_reg.predict(train_X[:30]), train_y[:30]) "
   ]
  },
  {
   "cell_type": "markdown",
   "metadata": {},
   "source": [
    "# Допишем код для процесса тренировки\n",
    "\n",
    "Если все реализовано корректно, значение функции ошибки должно уменьшаться с каждой эпохой, пусть и медленно. Не беспокойтесь пока про validation accuracy."
   ]
  },
  {
   "cell_type": "code",
   "execution_count": 9,
   "metadata": {},
   "outputs": [
    {
     "name": "stdout",
     "output_type": "stream",
     "text": [
      "Epoch: 0, Loss: 2.298982, Train accuracy: 0.196667, val accuracy: 0.206000\n",
      "Epoch: 1, Loss: 2.278454, Train accuracy: 0.196667, val accuracy: 0.206000\n",
      "Epoch: 2, Loss: 2.275776, Train accuracy: 0.196667, val accuracy: 0.206000\n",
      "Epoch: 3, Loss: 2.275231, Train accuracy: 0.196667, val accuracy: 0.206000\n",
      "Epoch: 4, Loss: 2.274717, Train accuracy: 0.196667, val accuracy: 0.206000\n",
      "Epoch: 5, Loss: 2.273921, Train accuracy: 0.196667, val accuracy: 0.206000\n",
      "Epoch: 6, Loss: 2.273071, Train accuracy: 0.196667, val accuracy: 0.206000\n",
      "Epoch: 7, Loss: 2.272308, Train accuracy: 0.196667, val accuracy: 0.206000\n",
      "Epoch: 8, Loss: 2.271905, Train accuracy: 0.196667, val accuracy: 0.206000\n",
      "Epoch: 9, Loss: 2.271783, Train accuracy: 0.196667, val accuracy: 0.206000\n",
      "Epoch: 10, Loss: 2.271663, Train accuracy: 0.196667, val accuracy: 0.206000\n",
      "Epoch: 11, Loss: 2.271655, Train accuracy: 0.196667, val accuracy: 0.206000\n",
      "Epoch: 12, Loss: 2.271572, Train accuracy: 0.196667, val accuracy: 0.206000\n",
      "Epoch: 13, Loss: 2.271642, Train accuracy: 0.196667, val accuracy: 0.206000\n",
      "Epoch: 14, Loss: 2.271661, Train accuracy: 0.196667, val accuracy: 0.206000\n",
      "Epoch: 15, Loss: 2.271645, Train accuracy: 0.196667, val accuracy: 0.206000\n",
      "Epoch: 16, Loss: 2.271619, Train accuracy: 0.196667, val accuracy: 0.206000\n",
      "Epoch: 17, Loss: 2.271617, Train accuracy: 0.196667, val accuracy: 0.206000\n",
      "Epoch: 18, Loss: 2.271653, Train accuracy: 0.196667, val accuracy: 0.206000\n",
      "Epoch: 19, Loss: 2.271649, Train accuracy: 0.196667, val accuracy: 0.206000\n"
     ]
    }
   ],
   "source": [
    "model = TwoLayerNet(n_input = train_X.shape[1], n_output = 10, hidden_layer_size = 100, reg = 1e-1)\n",
    "dataset = Dataset(train_X, train_y, val_X, val_y)\n",
    "trainer = Trainer(model, dataset, SGD(), learning_rate = 1e-2)\n",
    "\n",
    "# TODO Implement missing pieces in Trainer.fit function\n",
    "# You should expect loss to go down every epoch, even if it's slow\n",
    "loss_history, train_history, val_history = trainer.fit()"
   ]
  },
  {
   "cell_type": "code",
   "execution_count": 10,
   "metadata": {},
   "outputs": [
    {
     "data": {
      "text/plain": [
       "[<matplotlib.lines.Line2D at 0x28b64118908>]"
      ]
     },
     "execution_count": 10,
     "metadata": {},
     "output_type": "execute_result"
    },
    {
     "data": {
      "image/png": "[encoded data removed]",
      "text/plain": [
       "<Figure size 432x288 with 1 Axes>"
      ]
     },
     "metadata": {
      "needs_background": "light"
     },
     "output_type": "display_data"
    }
   ],
   "source": [
    "plt.plot(train_history)\n",
    "plt.plot(val_history)"
   ]
  },
  {
   "cell_type": "markdown",
   "metadata": {},
   "source": [
    "# Улучшаем процесс тренировки\n",
    "\n",
    "Мы реализуем несколько ключевых оптимизаций, необходимых для тренировки современных нейросетей."
   ]
  },
  {
   "cell_type": "markdown",
   "metadata": {},
   "source": [
    "## Уменьшение скорости обучения (learning rate decay)\n",
    "\n",
    "Одна из необходимых оптимизаций во время тренировки нейронных сетей - постепенное уменьшение скорости обучения по мере тренировки.\n",
    "\n",
    "Один из стандартных методов - уменьшение скорости обучения (learning rate) каждые N эпох на коэффициент d (часто называемый decay). Значения N и d, как всегда, являются гиперпараметрами и должны подбираться на основе эффективности на проверочных данных (validation data). \n",
    "\n",
    "В нашем случае N будет равным 1."
   ]
  },
  {
   "cell_type": "code",
   "execution_count": 11,
   "metadata": {},
   "outputs": [
    {
     "name": "stdout",
     "output_type": "stream",
     "text": [
      "Epoch: 0, Loss: 2.298679, Train accuracy: 0.196667, val accuracy: 0.206000\n",
      "Epoch: 1, Loss: 2.278273, Train accuracy: 0.196667, val accuracy: 0.206000\n",
      "Epoch: 2, Loss: 2.275767, Train accuracy: 0.196667, val accuracy: 0.206000\n",
      "Epoch: 3, Loss: 2.275189, Train accuracy: 0.196667, val accuracy: 0.206000\n",
      "Epoch: 4, Loss: 2.274649, Train accuracy: 0.196667, val accuracy: 0.206000\n",
      "Epoch: 5, Loss: 2.273863, Train accuracy: 0.196667, val accuracy: 0.206000\n",
      "Epoch: 6, Loss: 2.272956, Train accuracy: 0.196667, val accuracy: 0.206000\n",
      "Epoch: 7, Loss: 2.272185, Train accuracy: 0.196667, val accuracy: 0.206000\n",
      "Epoch: 8, Loss: 2.271845, Train accuracy: 0.196667, val accuracy: 0.206000\n",
      "Epoch: 9, Loss: 2.271667, Train accuracy: 0.196667, val accuracy: 0.206000\n",
      "Epoch: 10, Loss: 2.271560, Train accuracy: 0.196667, val accuracy: 0.206000\n",
      "Epoch: 11, Loss: 2.271589, Train accuracy: 0.196667, val accuracy: 0.206000\n",
      "Epoch: 12, Loss: 2.271573, Train accuracy: 0.196667, val accuracy: 0.206000\n",
      "Epoch: 13, Loss: 2.271544, Train accuracy: 0.196667, val accuracy: 0.206000\n",
      "Epoch: 14, Loss: 2.271559, Train accuracy: 0.196667, val accuracy: 0.206000\n",
      "Epoch: 15, Loss: 2.271582, Train accuracy: 0.196667, val accuracy: 0.206000\n",
      "Epoch: 16, Loss: 2.271574, Train accuracy: 0.196667, val accuracy: 0.206000\n",
      "Epoch: 17, Loss: 2.271575, Train accuracy: 0.196667, val accuracy: 0.206000\n",
      "Epoch: 18, Loss: 2.271495, Train accuracy: 0.196667, val accuracy: 0.206000\n",
      "Epoch: 19, Loss: 2.271563, Train accuracy: 0.196667, val accuracy: 0.206000\n"
     ]
    }
   ],
   "source": [
    "# TODO Implement learning rate decay inside Trainer.fit method\n",
    "# Decay should happen once per epoch\n",
    "\n",
    "model = TwoLayerNet(n_input = train_X.shape[1], n_output = 10, hidden_layer_size = 100, reg = 1e-1)\n",
    "dataset = Dataset(train_X, train_y, val_X, val_y)\n",
    "trainer = Trainer(model, dataset, SGD(), learning_rate_decay=0.99)\n",
    "\n",
    "initial_learning_rate = trainer.learning_rate\n",
    "loss_history, train_history, val_history = trainer.fit()\n",
    "\n",
    "assert trainer.learning_rate < initial_learning_rate, \"Learning rate should've been reduced\"\n",
    "assert trainer.learning_rate > 0.5*initial_learning_rate, \"Learning rate shouldn'tve been reduced that much!\""
   ]
  },
  {
   "cell_type": "markdown",
   "metadata": {},
   "source": [
    "# Накопление импульса (Momentum SGD)\n",
    "\n",
    "Другой большой класс оптимизаций - использование более эффективных методов градиентного спуска. Мы реализуем один из них - накопление импульса (Momentum SGD).\n",
    "\n",
    "Этот метод хранит скорость движения, использует градиент для ее изменения на каждом шаге, и изменяет веса пропорционально значению скорости.\n",
    "(Физическая аналогия: Вместо скорости градиенты теперь будут задавать ускорение, но будет присутствовать сила трения.)\n",
    "\n",
    "```\n",
    "velocity = momentum * velocity - learning_rate * gradient \n",
    "w = w + velocity\n",
    "```\n",
    "\n",
    "`momentum` здесь коэффициент затухания, который тоже является гиперпараметром (к счастью, для него часто есть хорошее значение по умолчанию, типичный диапазон -- 0.8-0.99).\n",
    "\n",
    "Несколько полезных ссылок, где метод разбирается более подробно:  \n",
    "http://cs231n.github.io/neural-networks-3/#sgd  \n",
    "https://distill.pub/2017/momentum/"
   ]
  },
  {
   "cell_type": "code",
   "execution_count": 12,
   "metadata": {},
   "outputs": [
    {
     "name": "stdout",
     "output_type": "stream",
     "text": [
      "Epoch: 0, Loss: 2.327797, Train accuracy: 0.196667, val accuracy: 0.206000\n",
      "Epoch: 1, Loss: 2.317322, Train accuracy: 0.196667, val accuracy: 0.206000\n",
      "Epoch: 2, Loss: 2.309072, Train accuracy: 0.196667, val accuracy: 0.206000\n",
      "Epoch: 3, Loss: 2.302554, Train accuracy: 0.196667, val accuracy: 0.206000\n",
      "Epoch: 4, Loss: 2.297383, Train accuracy: 0.196667, val accuracy: 0.206000\n",
      "Epoch: 5, Loss: 2.293268, Train accuracy: 0.196667, val accuracy: 0.206000\n",
      "Epoch: 6, Loss: 2.289971, Train accuracy: 0.196667, val accuracy: 0.206000\n",
      "Epoch: 7, Loss: 2.287328, Train accuracy: 0.196667, val accuracy: 0.206000\n",
      "Epoch: 8, Loss: 2.285198, Train accuracy: 0.196667, val accuracy: 0.206000\n",
      "Epoch: 9, Loss: 2.283473, Train accuracy: 0.196667, val accuracy: 0.206000\n",
      "Epoch: 10, Loss: 2.282073, Train accuracy: 0.196667, val accuracy: 0.206000\n",
      "Epoch: 11, Loss: 2.280930, Train accuracy: 0.196667, val accuracy: 0.206000\n",
      "Epoch: 12, Loss: 2.279995, Train accuracy: 0.196667, val accuracy: 0.206000\n",
      "Epoch: 13, Loss: 2.279228, Train accuracy: 0.196667, val accuracy: 0.206000\n",
      "Epoch: 14, Loss: 2.278595, Train accuracy: 0.196667, val accuracy: 0.206000\n",
      "Epoch: 15, Loss: 2.278068, Train accuracy: 0.196667, val accuracy: 0.206000\n",
      "Epoch: 16, Loss: 2.277631, Train accuracy: 0.196667, val accuracy: 0.206000\n",
      "Epoch: 17, Loss: 2.277267, Train accuracy: 0.196667, val accuracy: 0.206000\n",
      "Epoch: 18, Loss: 2.276960, Train accuracy: 0.196667, val accuracy: 0.206000\n",
      "Epoch: 19, Loss: 2.276704, Train accuracy: 0.196667, val accuracy: 0.206000\n"
     ]
    }
   ],
   "source": [
    "# TODO: Implement MomentumSGD.update function in optim.py\n",
    "\n",
    "model = TwoLayerNet(n_input = train_X.shape[1], n_output = 10, hidden_layer_size = 100, reg = 1e-1)\n",
    "dataset = Dataset(train_X, train_y, val_X, val_y)\n",
    "trainer = Trainer(model, dataset, MomentumSGD(), learning_rate=1e-4, learning_rate_decay=0.99)\n",
    "\n",
    "# You should see even better results than before!\n",
    "loss_history, train_history, val_history = trainer.fit()"
   ]
  },
  {
   "cell_type": "markdown",
   "metadata": {},
   "source": [
    "# Ну что, давайте уже тренировать сеть!"
   ]
  },
  {
   "cell_type": "markdown",
   "metadata": {},
   "source": [
    "## Последний тест - переобучимся (overfit) на маленьком наборе данных\n",
    "\n",
    "Хороший способ проверить, все ли реализовано корректно - переобучить сеть на маленьком наборе данных.  \n",
    "Наша модель обладает достаточной мощностью, чтобы приблизить маленький набор данных идеально, поэтому мы ожидаем, что на нем мы быстро дойдем до 100% точности на тренировочном наборе. \n",
    "\n",
    "Если этого не происходит, то где-то была допущена ошибка!"
   ]
  },
  {
   "cell_type": "code",
   "execution_count": 13,
   "metadata": {},
   "outputs": [
    {
     "name": "stdout",
     "output_type": "stream",
     "text": [
      "Epoch: 0, Loss: 2.338513, Train accuracy: 0.200000, val accuracy: 0.133333\n",
      "Epoch: 1, Loss: 2.320917, Train accuracy: 0.200000, val accuracy: 0.133333\n",
      "Epoch: 2, Loss: 2.309354, Train accuracy: 0.200000, val accuracy: 0.133333\n",
      "Epoch: 3, Loss: 2.302162, Train accuracy: 0.200000, val accuracy: 0.133333\n",
      "Epoch: 4, Loss: 2.291612, Train accuracy: 0.200000, val accuracy: 0.133333\n",
      "Epoch: 5, Loss: 2.279376, Train accuracy: 0.200000, val accuracy: 0.133333\n",
      "Epoch: 6, Loss: 2.272259, Train accuracy: 0.200000, val accuracy: 0.133333\n",
      "Epoch: 7, Loss: 2.249074, Train accuracy: 0.200000, val accuracy: 0.066667\n",
      "Epoch: 8, Loss: 2.224796, Train accuracy: 0.333333, val accuracy: 0.066667\n",
      "Epoch: 9, Loss: 2.160366, Train accuracy: 0.400000, val accuracy: 0.000000\n",
      "Epoch: 10, Loss: 2.077119, Train accuracy: 0.400000, val accuracy: 0.000000\n",
      "Epoch: 11, Loss: 2.023314, Train accuracy: 0.400000, val accuracy: 0.000000\n",
      "Epoch: 12, Loss: 1.990641, Train accuracy: 0.333333, val accuracy: 0.000000\n",
      "Epoch: 13, Loss: 1.882378, Train accuracy: 0.333333, val accuracy: 0.000000\n",
      "Epoch: 14, Loss: 1.865913, Train accuracy: 0.400000, val accuracy: 0.000000\n",
      "Epoch: 15, Loss: 1.850085, Train accuracy: 0.333333, val accuracy: 0.000000\n",
      "Epoch: 16, Loss: 1.830226, Train accuracy: 0.400000, val accuracy: 0.000000\n",
      "Epoch: 17, Loss: 1.838123, Train accuracy: 0.400000, val accuracy: 0.000000\n",
      "Epoch: 18, Loss: 1.812237, Train accuracy: 0.400000, val accuracy: 0.000000\n",
      "Epoch: 19, Loss: 1.816095, Train accuracy: 0.466667, val accuracy: 0.000000\n",
      "Epoch: 20, Loss: 1.761647, Train accuracy: 0.400000, val accuracy: 0.000000\n",
      "Epoch: 21, Loss: 1.769044, Train accuracy: 0.400000, val accuracy: 0.000000\n",
      "Epoch: 22, Loss: 1.771029, Train accuracy: 0.400000, val accuracy: 0.066667\n",
      "Epoch: 23, Loss: 1.753963, Train accuracy: 0.466667, val accuracy: 0.000000\n",
      "Epoch: 24, Loss: 1.715191, Train accuracy: 0.466667, val accuracy: 0.000000\n",
      "Epoch: 25, Loss: 1.720617, Train accuracy: 0.466667, val accuracy: 0.000000\n",
      "Epoch: 26, Loss: 1.700544, Train accuracy: 0.466667, val accuracy: 0.066667\n",
      "Epoch: 27, Loss: 1.720224, Train accuracy: 0.466667, val accuracy: 0.066667\n",
      "Epoch: 28, Loss: 1.739972, Train accuracy: 0.466667, val accuracy: 0.000000\n",
      "Epoch: 29, Loss: 1.722064, Train accuracy: 0.466667, val accuracy: 0.000000\n",
      "Epoch: 30, Loss: 1.677093, Train accuracy: 0.533333, val accuracy: 0.000000\n",
      "Epoch: 31, Loss: 1.659074, Train accuracy: 0.533333, val accuracy: 0.066667\n",
      "Epoch: 32, Loss: 1.643295, Train accuracy: 0.533333, val accuracy: 0.066667\n",
      "Epoch: 33, Loss: 1.650655, Train accuracy: 0.533333, val accuracy: 0.066667\n",
      "Epoch: 34, Loss: 1.648200, Train accuracy: 0.600000, val accuracy: 0.000000\n",
      "Epoch: 35, Loss: 1.605776, Train accuracy: 0.600000, val accuracy: 0.066667\n",
      "Epoch: 36, Loss: 1.613467, Train accuracy: 0.600000, val accuracy: 0.066667\n",
      "Epoch: 37, Loss: 1.603818, Train accuracy: 0.600000, val accuracy: 0.066667\n",
      "Epoch: 38, Loss: 1.607823, Train accuracy: 0.600000, val accuracy: 0.066667\n",
      "Epoch: 39, Loss: 1.557173, Train accuracy: 0.600000, val accuracy: 0.066667\n",
      "Epoch: 40, Loss: 1.571724, Train accuracy: 0.666667, val accuracy: 0.066667\n",
      "Epoch: 41, Loss: 1.563613, Train accuracy: 0.666667, val accuracy: 0.066667\n",
      "Epoch: 42, Loss: 1.535058, Train accuracy: 0.666667, val accuracy: 0.066667\n",
      "Epoch: 43, Loss: 1.553322, Train accuracy: 0.666667, val accuracy: 0.066667\n",
      "Epoch: 44, Loss: 1.521862, Train accuracy: 0.666667, val accuracy: 0.066667\n",
      "Epoch: 45, Loss: 1.551279, Train accuracy: 0.733333, val accuracy: 0.066667\n",
      "Epoch: 46, Loss: 1.533226, Train accuracy: 0.733333, val accuracy: 0.066667\n",
      "Epoch: 47, Loss: 1.514212, Train accuracy: 0.733333, val accuracy: 0.066667\n",
      "Epoch: 48, Loss: 1.489937, Train accuracy: 0.800000, val accuracy: 0.066667\n",
      "Epoch: 49, Loss: 1.510153, Train accuracy: 0.733333, val accuracy: 0.133333\n",
      "Epoch: 50, Loss: 1.522101, Train accuracy: 0.733333, val accuracy: 0.000000\n",
      "Epoch: 51, Loss: 1.464724, Train accuracy: 0.733333, val accuracy: 0.066667\n",
      "Epoch: 52, Loss: 1.432964, Train accuracy: 0.733333, val accuracy: 0.066667\n",
      "Epoch: 53, Loss: 1.423723, Train accuracy: 0.733333, val accuracy: 0.066667\n",
      "Epoch: 54, Loss: 1.432805, Train accuracy: 0.733333, val accuracy: 0.066667\n",
      "Epoch: 55, Loss: 1.411636, Train accuracy: 0.733333, val accuracy: 0.066667\n",
      "Epoch: 56, Loss: 1.431253, Train accuracy: 0.666667, val accuracy: 0.000000\n",
      "Epoch: 57, Loss: 1.424014, Train accuracy: 0.733333, val accuracy: 0.066667\n",
      "Epoch: 58, Loss: 1.431763, Train accuracy: 0.733333, val accuracy: 0.066667\n",
      "Epoch: 59, Loss: 1.393281, Train accuracy: 0.733333, val accuracy: 0.066667\n",
      "Epoch: 60, Loss: 1.386942, Train accuracy: 0.733333, val accuracy: 0.066667\n",
      "Epoch: 61, Loss: 1.392408, Train accuracy: 0.733333, val accuracy: 0.066667\n",
      "Epoch: 62, Loss: 1.389754, Train accuracy: 0.733333, val accuracy: 0.066667\n",
      "Epoch: 63, Loss: 1.371687, Train accuracy: 0.733333, val accuracy: 0.066667\n",
      "Epoch: 64, Loss: 1.383909, Train accuracy: 0.733333, val accuracy: 0.066667\n",
      "Epoch: 65, Loss: 1.382041, Train accuracy: 0.733333, val accuracy: 0.066667\n",
      "Epoch: 66, Loss: 1.392579, Train accuracy: 0.733333, val accuracy: 0.000000\n",
      "Epoch: 67, Loss: 1.378158, Train accuracy: 0.733333, val accuracy: 0.066667\n",
      "Epoch: 68, Loss: 1.377792, Train accuracy: 0.733333, val accuracy: 0.066667\n",
      "Epoch: 69, Loss: 1.390032, Train accuracy: 0.733333, val accuracy: 0.066667\n",
      "Epoch: 70, Loss: 1.372182, Train accuracy: 0.733333, val accuracy: 0.066667\n",
      "Epoch: 71, Loss: 1.372677, Train accuracy: 0.733333, val accuracy: 0.000000\n",
      "Epoch: 72, Loss: 1.375066, Train accuracy: 0.733333, val accuracy: 0.066667\n",
      "Epoch: 73, Loss: 1.363849, Train accuracy: 0.733333, val accuracy: 0.066667\n",
      "Epoch: 74, Loss: 1.382682, Train accuracy: 0.733333, val accuracy: 0.066667\n",
      "Epoch: 75, Loss: 1.397308, Train accuracy: 0.800000, val accuracy: 0.066667\n",
      "Epoch: 76, Loss: 1.371160, Train accuracy: 0.800000, val accuracy: 0.000000\n",
      "Epoch: 77, Loss: 1.382351, Train accuracy: 0.800000, val accuracy: 0.066667\n",
      "Epoch: 78, Loss: 1.391005, Train accuracy: 0.800000, val accuracy: 0.066667\n",
      "Epoch: 79, Loss: 1.385355, Train accuracy: 0.800000, val accuracy: 0.066667\n",
      "Epoch: 80, Loss: 1.347869, Train accuracy: 0.866667, val accuracy: 0.066667\n",
      "Epoch: 81, Loss: 1.356205, Train accuracy: 0.866667, val accuracy: 0.066667\n",
      "Epoch: 82, Loss: 1.400631, Train accuracy: 0.866667, val accuracy: 0.000000\n",
      "Epoch: 83, Loss: 1.365190, Train accuracy: 0.866667, val accuracy: 0.000000\n",
      "Epoch: 84, Loss: 1.349667, Train accuracy: 0.866667, val accuracy: 0.066667\n",
      "Epoch: 85, Loss: 1.357898, Train accuracy: 0.866667, val accuracy: 0.066667\n",
      "Epoch: 86, Loss: 1.365172, Train accuracy: 0.933333, val accuracy: 0.066667\n",
      "Epoch: 87, Loss: 1.370781, Train accuracy: 0.933333, val accuracy: 0.066667\n",
      "Epoch: 88, Loss: 1.346892, Train accuracy: 0.866667, val accuracy: 0.066667\n",
      "Epoch: 89, Loss: 1.352720, Train accuracy: 0.933333, val accuracy: 0.066667\n",
      "Epoch: 90, Loss: 1.341590, Train accuracy: 0.933333, val accuracy: 0.066667\n",
      "Epoch: 91, Loss: 1.339883, Train accuracy: 0.933333, val accuracy: 0.066667\n",
      "Epoch: 92, Loss: 1.344367, Train accuracy: 0.933333, val accuracy: 0.066667\n",
      "Epoch: 93, Loss: 1.359988, Train accuracy: 0.933333, val accuracy: 0.000000\n",
      "Epoch: 94, Loss: 1.343300, Train accuracy: 0.933333, val accuracy: 0.066667\n",
      "Epoch: 95, Loss: 1.337527, Train accuracy: 0.933333, val accuracy: 0.066667\n",
      "Epoch: 96, Loss: 1.345549, Train accuracy: 0.933333, val accuracy: 0.066667\n",
      "Epoch: 97, Loss: 1.353123, Train accuracy: 0.933333, val accuracy: 0.066667\n",
      "Epoch: 98, Loss: 1.332500, Train accuracy: 0.933333, val accuracy: 0.066667\n",
      "Epoch: 99, Loss: 1.333938, Train accuracy: 0.933333, val accuracy: 0.066667\n",
      "Epoch: 100, Loss: 1.330066, Train accuracy: 0.933333, val accuracy: 0.066667\n",
      "Epoch: 101, Loss: 1.325719, Train accuracy: 0.933333, val accuracy: 0.066667\n",
      "Epoch: 102, Loss: 1.328516, Train accuracy: 0.933333, val accuracy: 0.066667\n",
      "Epoch: 103, Loss: 1.320576, Train accuracy: 0.933333, val accuracy: 0.066667\n",
      "Epoch: 104, Loss: 1.324892, Train accuracy: 0.933333, val accuracy: 0.066667\n",
      "Epoch: 105, Loss: 1.310105, Train accuracy: 0.933333, val accuracy: 0.066667\n",
      "Epoch: 106, Loss: 1.320430, Train accuracy: 0.933333, val accuracy: 0.000000\n",
      "Epoch: 107, Loss: 1.308837, Train accuracy: 0.933333, val accuracy: 0.066667\n",
      "Epoch: 108, Loss: 1.296569, Train accuracy: 0.933333, val accuracy: 0.066667\n",
      "Epoch: 109, Loss: 1.298800, Train accuracy: 0.933333, val accuracy: 0.000000\n",
      "Epoch: 110, Loss: 1.305147, Train accuracy: 1.000000, val accuracy: 0.066667\n"
     ]
    },
    {
     "name": "stdout",
     "output_type": "stream",
     "text": [
      "Epoch: 111, Loss: 1.292964, Train accuracy: 0.933333, val accuracy: 0.000000\n",
      "Epoch: 112, Loss: 1.294184, Train accuracy: 1.000000, val accuracy: 0.000000\n",
      "Epoch: 113, Loss: 1.283020, Train accuracy: 0.933333, val accuracy: 0.000000\n",
      "Epoch: 114, Loss: 1.286336, Train accuracy: 0.933333, val accuracy: 0.000000\n",
      "Epoch: 115, Loss: 1.311874, Train accuracy: 1.000000, val accuracy: 0.000000\n",
      "Epoch: 116, Loss: 1.307945, Train accuracy: 0.933333, val accuracy: 0.000000\n",
      "Epoch: 117, Loss: 1.278573, Train accuracy: 1.000000, val accuracy: 0.000000\n",
      "Epoch: 118, Loss: 1.274128, Train accuracy: 1.000000, val accuracy: 0.000000\n",
      "Epoch: 119, Loss: 1.299602, Train accuracy: 1.000000, val accuracy: 0.000000\n",
      "Epoch: 120, Loss: 1.308194, Train accuracy: 0.933333, val accuracy: 0.000000\n",
      "Epoch: 121, Loss: 1.284072, Train accuracy: 1.000000, val accuracy: 0.000000\n",
      "Epoch: 122, Loss: 1.268346, Train accuracy: 1.000000, val accuracy: 0.000000\n",
      "Epoch: 123, Loss: 1.279644, Train accuracy: 1.000000, val accuracy: 0.000000\n",
      "Epoch: 124, Loss: 1.261962, Train accuracy: 1.000000, val accuracy: 0.000000\n",
      "Epoch: 125, Loss: 1.286428, Train accuracy: 1.000000, val accuracy: 0.000000\n",
      "Epoch: 126, Loss: 1.256874, Train accuracy: 1.000000, val accuracy: 0.000000\n",
      "Epoch: 127, Loss: 1.267382, Train accuracy: 1.000000, val accuracy: 0.000000\n",
      "Epoch: 128, Loss: 1.266512, Train accuracy: 1.000000, val accuracy: 0.000000\n",
      "Epoch: 129, Loss: 1.268048, Train accuracy: 1.000000, val accuracy: 0.000000\n",
      "Epoch: 130, Loss: 1.267290, Train accuracy: 1.000000, val accuracy: 0.000000\n",
      "Epoch: 131, Loss: 1.290552, Train accuracy: 1.000000, val accuracy: 0.000000\n",
      "Epoch: 132, Loss: 1.297965, Train accuracy: 1.000000, val accuracy: 0.000000\n",
      "Epoch: 133, Loss: 1.282717, Train accuracy: 0.933333, val accuracy: 0.000000\n",
      "Epoch: 134, Loss: 1.277372, Train accuracy: 1.000000, val accuracy: 0.000000\n",
      "Epoch: 135, Loss: 1.276435, Train accuracy: 1.000000, val accuracy: 0.000000\n",
      "Epoch: 136, Loss: 1.265663, Train accuracy: 1.000000, val accuracy: 0.000000\n",
      "Epoch: 137, Loss: 1.253758, Train accuracy: 1.000000, val accuracy: 0.000000\n",
      "Epoch: 138, Loss: 1.259296, Train accuracy: 1.000000, val accuracy: 0.000000\n",
      "Epoch: 139, Loss: 1.245549, Train accuracy: 1.000000, val accuracy: 0.000000\n",
      "Epoch: 140, Loss: 1.263141, Train accuracy: 1.000000, val accuracy: 0.000000\n",
      "Epoch: 141, Loss: 1.254392, Train accuracy: 1.000000, val accuracy: 0.000000\n",
      "Epoch: 142, Loss: 1.265931, Train accuracy: 1.000000, val accuracy: 0.000000\n",
      "Epoch: 143, Loss: 1.259925, Train accuracy: 1.000000, val accuracy: 0.000000\n",
      "Epoch: 144, Loss: 1.262231, Train accuracy: 1.000000, val accuracy: 0.000000\n",
      "Epoch: 145, Loss: 1.250383, Train accuracy: 1.000000, val accuracy: 0.000000\n",
      "Epoch: 146, Loss: 1.259467, Train accuracy: 1.000000, val accuracy: 0.000000\n",
      "Epoch: 147, Loss: 1.259928, Train accuracy: 1.000000, val accuracy: 0.000000\n",
      "Epoch: 148, Loss: 1.245491, Train accuracy: 1.000000, val accuracy: 0.000000\n",
      "Epoch: 149, Loss: 1.277881, Train accuracy: 1.000000, val accuracy: 0.000000\n"
     ]
    }
   ],
   "source": [
    "data_size = 15\n",
    "model = TwoLayerNet(n_input = train_X.shape[1], n_output = 10, hidden_layer_size = 100, reg = 1e-1)\n",
    "dataset = Dataset(train_X[:data_size], train_y[:data_size], val_X[:data_size], val_y[:data_size])\n",
    "trainer = Trainer(model, dataset, SGD(), learning_rate=1e-1, num_epochs=150, batch_size=5)\n",
    "\n",
    "# You should expect this to reach 1.0 training accuracy \n",
    "loss_history, train_history, val_history = trainer.fit()"
   ]
  },
  {
   "cell_type": "markdown",
   "metadata": {},
   "source": [
    "Теперь найдем гипепараметры, для которых этот процесс сходится быстрее.\n",
    "Если все реализовано корректно, то существуют параметры, при которых процесс сходится в **20** эпох или еще быстрее.\n",
    "Найдите их!"
   ]
  },
  {
   "cell_type": "code",
   "execution_count": 14,
   "metadata": {},
   "outputs": [
    {
     "name": "stdout",
     "output_type": "stream",
     "text": [
      "Epoch: 0, Loss: 2.328284, Train accuracy: 0.266667, val accuracy: 0.066667\n",
      "Epoch: 1, Loss: 2.288485, Train accuracy: 0.200000, val accuracy: 0.133333\n",
      "Epoch: 2, Loss: 2.226239, Train accuracy: 0.400000, val accuracy: 0.000000\n",
      "Epoch: 3, Loss: 2.100252, Train accuracy: 0.400000, val accuracy: 0.000000\n",
      "Epoch: 4, Loss: 1.902997, Train accuracy: 0.400000, val accuracy: 0.133333\n",
      "Epoch: 5, Loss: 1.904490, Train accuracy: 0.466667, val accuracy: 0.066667\n",
      "Epoch: 6, Loss: 1.823605, Train accuracy: 0.333333, val accuracy: 0.133333\n",
      "Epoch: 7, Loss: 1.518474, Train accuracy: 0.466667, val accuracy: 0.000000\n",
      "Epoch: 8, Loss: 1.583218, Train accuracy: 0.600000, val accuracy: 0.066667\n",
      "Epoch: 9, Loss: 1.416754, Train accuracy: 0.666667, val accuracy: 0.000000\n",
      "Epoch: 10, Loss: 1.343407, Train accuracy: 0.733333, val accuracy: 0.066667\n",
      "Epoch: 11, Loss: 1.105756, Train accuracy: 0.600000, val accuracy: 0.000000\n",
      "Epoch: 12, Loss: 1.424953, Train accuracy: 0.666667, val accuracy: 0.000000\n",
      "Epoch: 13, Loss: 1.051990, Train accuracy: 0.800000, val accuracy: 0.000000\n",
      "Epoch: 14, Loss: 0.808952, Train accuracy: 0.933333, val accuracy: 0.000000\n",
      "Epoch: 15, Loss: 0.644146, Train accuracy: 0.933333, val accuracy: 0.000000\n",
      "Epoch: 16, Loss: 0.553349, Train accuracy: 0.933333, val accuracy: 0.000000\n",
      "Epoch: 17, Loss: 0.476756, Train accuracy: 1.000000, val accuracy: 0.000000\n",
      "Epoch: 18, Loss: 0.410935, Train accuracy: 0.933333, val accuracy: 0.000000\n",
      "Epoch: 19, Loss: 0.361035, Train accuracy: 1.000000, val accuracy: 0.000000\n"
     ]
    }
   ],
   "source": [
    "# Now, tweak some hyper parameters and make it train to 1.0 accuracy in 20 epochs or less\n",
    "\n",
    "model = TwoLayerNet(n_input = train_X.shape[1], n_output = 10, hidden_layer_size = 500, reg = 1e-2)\n",
    "dataset = Dataset(train_X[:data_size], train_y[:data_size], val_X[:data_size], val_y[:data_size])\n",
    "# TODO: Change any hyperparamers or optimizators to reach training accuracy in 20 epochs\n",
    "trainer = Trainer(model, dataset, SGD(), learning_rate = 1e-1, num_epochs=20, batch_size = 2)\n",
    "\n",
    "loss_history, train_history, val_history = trainer.fit()"
   ]
  },
  {
   "cell_type": "markdown",
   "metadata": {},
   "source": [
    "# Итак, основное мероприятие!\n",
    "\n",
    "Натренируйте лучшую нейросеть! Можно добавлять и изменять параметры, менять количество нейронов в слоях сети и как угодно экспериментировать. \n",
    "\n",
    "Добейтесь точности лучше **60%** на validation set."
   ]
  },
  {
   "cell_type": "code",
   "execution_count": 19,
   "metadata": {
    "scrolled": true
   },
   "outputs": [
    {
     "name": "stdout",
     "output_type": "stream",
     "text": [
      "Epoch: 0, Loss: 2.271306, Train accuracy: 0.196667, val accuracy: 0.206000\n",
      "Epoch: 1, Loss: 2.235559, Train accuracy: 0.196667, val accuracy: 0.206000\n",
      "Epoch: 2, Loss: 2.229224, Train accuracy: 0.196667, val accuracy: 0.206000\n",
      "Epoch: 3, Loss: 2.225775, Train accuracy: 0.196667, val accuracy: 0.206000\n",
      "Epoch: 4, Loss: 2.215446, Train accuracy: 0.196667, val accuracy: 0.206000\n",
      "Epoch: 5, Loss: 2.187502, Train accuracy: 0.196667, val accuracy: 0.206000\n",
      "Epoch: 6, Loss: 2.145052, Train accuracy: 0.229000, val accuracy: 0.230000\n",
      "Epoch: 7, Loss: 2.100066, Train accuracy: 0.259222, val accuracy: 0.252000\n",
      "Epoch: 8, Loss: 2.047794, Train accuracy: 0.281222, val accuracy: 0.283000\n",
      "Epoch: 9, Loss: 1.976285, Train accuracy: 0.317667, val accuracy: 0.319000\n",
      "Epoch: 10, Loss: 1.884557, Train accuracy: 0.360111, val accuracy: 0.361000\n",
      "Epoch: 11, Loss: 1.785887, Train accuracy: 0.406444, val accuracy: 0.390000\n",
      "Epoch: 12, Loss: 1.703339, Train accuracy: 0.445333, val accuracy: 0.435000\n",
      "Epoch: 13, Loss: 1.626941, Train accuracy: 0.491000, val accuracy: 0.503000\n",
      "Epoch: 14, Loss: 1.558065, Train accuracy: 0.525333, val accuracy: 0.510000\n",
      "Epoch: 15, Loss: 1.495738, Train accuracy: 0.543111, val accuracy: 0.533000\n",
      "Epoch: 16, Loss: 1.437326, Train accuracy: 0.574333, val accuracy: 0.563000\n",
      "Epoch: 17, Loss: 1.383778, Train accuracy: 0.599222, val accuracy: 0.577000\n",
      "Epoch: 18, Loss: 1.332984, Train accuracy: 0.621111, val accuracy: 0.608000\n",
      "Epoch: 19, Loss: 1.290267, Train accuracy: 0.634111, val accuracy: 0.619000\n",
      "Epoch: 20, Loss: 1.248303, Train accuracy: 0.650667, val accuracy: 0.630000\n",
      "Epoch: 21, Loss: 1.222394, Train accuracy: 0.663667, val accuracy: 0.649000\n",
      "Epoch: 22, Loss: 1.187969, Train accuracy: 0.681111, val accuracy: 0.655000\n",
      "Epoch: 23, Loss: 1.159887, Train accuracy: 0.693444, val accuracy: 0.674000\n",
      "Epoch: 24, Loss: 1.137617, Train accuracy: 0.699667, val accuracy: 0.672000\n",
      "Epoch: 25, Loss: 1.117648, Train accuracy: 0.707444, val accuracy: 0.683000\n",
      "Epoch: 26, Loss: 1.097493, Train accuracy: 0.718222, val accuracy: 0.699000\n",
      "Epoch: 27, Loss: 1.080027, Train accuracy: 0.723556, val accuracy: 0.707000\n",
      "Epoch: 28, Loss: 1.070959, Train accuracy: 0.728333, val accuracy: 0.699000\n",
      "Epoch: 29, Loss: 1.039791, Train accuracy: 0.734667, val accuracy: 0.714000\n",
      "Epoch: 30, Loss: 1.029675, Train accuracy: 0.737889, val accuracy: 0.696000\n",
      "Epoch: 31, Loss: 1.017634, Train accuracy: 0.736556, val accuracy: 0.692000\n",
      "Epoch: 32, Loss: 1.004601, Train accuracy: 0.752889, val accuracy: 0.715000\n",
      "Epoch: 33, Loss: 0.992867, Train accuracy: 0.756222, val accuracy: 0.718000\n",
      "Epoch: 34, Loss: 0.974107, Train accuracy: 0.760111, val accuracy: 0.713000\n",
      "Epoch: 35, Loss: 0.970175, Train accuracy: 0.762222, val accuracy: 0.703000\n",
      "Epoch: 36, Loss: 0.964826, Train accuracy: 0.758556, val accuracy: 0.714000\n",
      "Epoch: 37, Loss: 0.953111, Train accuracy: 0.771444, val accuracy: 0.712000\n",
      "Epoch: 38, Loss: 0.939414, Train accuracy: 0.770444, val accuracy: 0.719000\n",
      "Epoch: 39, Loss: 0.933926, Train accuracy: 0.783889, val accuracy: 0.719000\n",
      "Epoch: 40, Loss: 0.929242, Train accuracy: 0.778000, val accuracy: 0.727000\n",
      "Epoch: 41, Loss: 0.917474, Train accuracy: 0.783778, val accuracy: 0.730000\n",
      "Epoch: 42, Loss: 0.912939, Train accuracy: 0.783000, val accuracy: 0.727000\n",
      "Epoch: 43, Loss: 0.904850, Train accuracy: 0.794889, val accuracy: 0.729000\n",
      "Epoch: 44, Loss: 0.895343, Train accuracy: 0.802222, val accuracy: 0.733000\n",
      "Epoch: 45, Loss: 0.895458, Train accuracy: 0.801556, val accuracy: 0.735000\n",
      "Epoch: 46, Loss: 0.886543, Train accuracy: 0.803333, val accuracy: 0.731000\n",
      "Epoch: 47, Loss: 0.877745, Train accuracy: 0.811556, val accuracy: 0.738000\n",
      "Epoch: 48, Loss: 0.877334, Train accuracy: 0.804889, val accuracy: 0.727000\n",
      "Epoch: 49, Loss: 0.874048, Train accuracy: 0.817889, val accuracy: 0.744000\n",
      "Epoch: 50, Loss: 0.866298, Train accuracy: 0.818000, val accuracy: 0.747000\n",
      "Epoch: 51, Loss: 0.860493, Train accuracy: 0.818556, val accuracy: 0.744000\n",
      "Epoch: 52, Loss: 0.853312, Train accuracy: 0.822444, val accuracy: 0.740000\n",
      "Epoch: 53, Loss: 0.848438, Train accuracy: 0.824333, val accuracy: 0.752000\n",
      "Epoch: 54, Loss: 0.846460, Train accuracy: 0.826667, val accuracy: 0.756000\n",
      "Epoch: 55, Loss: 0.839282, Train accuracy: 0.832000, val accuracy: 0.756000\n",
      "Epoch: 56, Loss: 0.834388, Train accuracy: 0.825000, val accuracy: 0.742000\n",
      "Epoch: 57, Loss: 0.836617, Train accuracy: 0.832111, val accuracy: 0.758000\n",
      "Epoch: 58, Loss: 0.834777, Train accuracy: 0.828222, val accuracy: 0.750000\n",
      "Epoch: 59, Loss: 0.821223, Train accuracy: 0.838444, val accuracy: 0.764000\n",
      "Epoch: 60, Loss: 0.819122, Train accuracy: 0.839000, val accuracy: 0.748000\n",
      "Epoch: 61, Loss: 0.820829, Train accuracy: 0.845000, val accuracy: 0.755000\n",
      "Epoch: 62, Loss: 0.810992, Train accuracy: 0.846778, val accuracy: 0.756000\n",
      "Epoch: 63, Loss: 0.808338, Train accuracy: 0.843111, val accuracy: 0.757000\n",
      "Epoch: 64, Loss: 0.807382, Train accuracy: 0.847889, val accuracy: 0.752000\n",
      "Epoch: 65, Loss: 0.801305, Train accuracy: 0.852333, val accuracy: 0.764000\n",
      "Epoch: 66, Loss: 0.799933, Train accuracy: 0.840333, val accuracy: 0.755000\n",
      "Epoch: 67, Loss: 0.796790, Train accuracy: 0.853667, val accuracy: 0.753000\n",
      "Epoch: 68, Loss: 0.792383, Train accuracy: 0.857111, val accuracy: 0.771000\n",
      "Epoch: 69, Loss: 0.791389, Train accuracy: 0.854111, val accuracy: 0.744000\n",
      "Epoch: 70, Loss: 0.790988, Train accuracy: 0.858889, val accuracy: 0.770000\n",
      "Epoch: 71, Loss: 0.791915, Train accuracy: 0.853333, val accuracy: 0.760000\n",
      "Epoch: 72, Loss: 0.782424, Train accuracy: 0.856111, val accuracy: 0.766000\n",
      "Epoch: 73, Loss: 0.782113, Train accuracy: 0.867556, val accuracy: 0.770000\n",
      "Epoch: 74, Loss: 0.782021, Train accuracy: 0.863000, val accuracy: 0.762000\n",
      "Epoch: 75, Loss: 0.775717, Train accuracy: 0.866778, val accuracy: 0.772000\n",
      "Epoch: 76, Loss: 0.771086, Train accuracy: 0.863889, val accuracy: 0.768000\n",
      "Epoch: 77, Loss: 0.769600, Train accuracy: 0.866667, val accuracy: 0.765000\n",
      "Epoch: 78, Loss: 0.769765, Train accuracy: 0.869222, val accuracy: 0.770000\n",
      "Epoch: 79, Loss: 0.768025, Train accuracy: 0.865111, val accuracy: 0.755000\n",
      "Epoch: 80, Loss: 0.770004, Train accuracy: 0.867889, val accuracy: 0.761000\n",
      "Epoch: 81, Loss: 0.765797, Train accuracy: 0.873222, val accuracy: 0.761000\n",
      "Epoch: 82, Loss: 0.759252, Train accuracy: 0.881222, val accuracy: 0.773000\n",
      "Epoch: 83, Loss: 0.762891, Train accuracy: 0.877889, val accuracy: 0.773000\n",
      "Epoch: 84, Loss: 0.754265, Train accuracy: 0.882222, val accuracy: 0.775000\n",
      "Epoch: 85, Loss: 0.759987, Train accuracy: 0.875889, val accuracy: 0.758000\n",
      "Epoch: 86, Loss: 0.757253, Train accuracy: 0.878222, val accuracy: 0.767000\n",
      "Epoch: 87, Loss: 0.757057, Train accuracy: 0.889000, val accuracy: 0.770000\n",
      "Epoch: 88, Loss: 0.747088, Train accuracy: 0.886444, val accuracy: 0.773000\n",
      "Epoch: 89, Loss: 0.749075, Train accuracy: 0.883333, val accuracy: 0.771000\n",
      "Epoch: 90, Loss: 0.743333, Train accuracy: 0.887889, val accuracy: 0.768000\n",
      "Epoch: 91, Loss: 0.744924, Train accuracy: 0.882222, val accuracy: 0.771000\n",
      "Epoch: 92, Loss: 0.745224, Train accuracy: 0.887556, val accuracy: 0.773000\n",
      "Epoch: 93, Loss: 0.746481, Train accuracy: 0.888333, val accuracy: 0.770000\n",
      "Epoch: 94, Loss: 0.745013, Train accuracy: 0.891778, val accuracy: 0.771000\n",
      "Epoch: 95, Loss: 0.740416, Train accuracy: 0.888889, val accuracy: 0.766000\n",
      "Epoch: 96, Loss: 0.737936, Train accuracy: 0.899222, val accuracy: 0.774000\n",
      "Epoch: 97, Loss: 0.736370, Train accuracy: 0.896778, val accuracy: 0.776000\n",
      "Epoch: 98, Loss: 0.734775, Train accuracy: 0.894111, val accuracy: 0.774000\n",
      "Epoch: 99, Loss: 0.734848, Train accuracy: 0.896000, val accuracy: 0.772000\n",
      "Epoch: 100, Loss: 0.732409, Train accuracy: 0.895000, val accuracy: 0.769000\n",
      "Epoch: 101, Loss: 0.728023, Train accuracy: 0.901333, val accuracy: 0.774000\n",
      "Epoch: 102, Loss: 0.726931, Train accuracy: 0.903222, val accuracy: 0.776000\n",
      "Epoch: 103, Loss: 0.727828, Train accuracy: 0.900333, val accuracy: 0.773000\n",
      "Epoch: 104, Loss: 0.727684, Train accuracy: 0.900222, val accuracy: 0.776000\n",
      "Epoch: 105, Loss: 0.726084, Train accuracy: 0.896111, val accuracy: 0.775000\n",
      "Epoch: 106, Loss: 0.726826, Train accuracy: 0.900556, val accuracy: 0.778000\n",
      "Epoch: 107, Loss: 0.726914, Train accuracy: 0.904444, val accuracy: 0.770000\n"
     ]
    },
    {
     "name": "stdout",
     "output_type": "stream",
     "text": [
      "Epoch: 108, Loss: 0.728367, Train accuracy: 0.904333, val accuracy: 0.774000\n",
      "Epoch: 109, Loss: 0.728125, Train accuracy: 0.898556, val accuracy: 0.776000\n",
      "Epoch: 110, Loss: 0.725531, Train accuracy: 0.904778, val accuracy: 0.769000\n",
      "Epoch: 111, Loss: 0.723037, Train accuracy: 0.900556, val accuracy: 0.775000\n",
      "Epoch: 112, Loss: 0.727651, Train accuracy: 0.910889, val accuracy: 0.777000\n",
      "Epoch: 113, Loss: 0.720260, Train accuracy: 0.907111, val accuracy: 0.783000\n",
      "Epoch: 114, Loss: 0.721658, Train accuracy: 0.904333, val accuracy: 0.776000\n",
      "Epoch: 115, Loss: 0.717238, Train accuracy: 0.913333, val accuracy: 0.785000\n",
      "Epoch: 116, Loss: 0.716494, Train accuracy: 0.916333, val accuracy: 0.782000\n",
      "Epoch: 117, Loss: 0.716554, Train accuracy: 0.914444, val accuracy: 0.768000\n",
      "Epoch: 118, Loss: 0.714829, Train accuracy: 0.907000, val accuracy: 0.773000\n",
      "Epoch: 119, Loss: 0.715141, Train accuracy: 0.914000, val accuracy: 0.777000\n",
      "Epoch: 0, Loss: 2.271419, Train accuracy: 0.196667, val accuracy: 0.206000\n",
      "Epoch: 1, Loss: 2.235042, Train accuracy: 0.196667, val accuracy: 0.206000\n",
      "Epoch: 2, Loss: 2.228501, Train accuracy: 0.196667, val accuracy: 0.206000\n",
      "Epoch: 3, Loss: 2.223990, Train accuracy: 0.196667, val accuracy: 0.206000\n",
      "Epoch: 4, Loss: 2.206104, Train accuracy: 0.196667, val accuracy: 0.206000\n",
      "Epoch: 5, Loss: 2.168875, Train accuracy: 0.207111, val accuracy: 0.213000\n",
      "Epoch: 6, Loss: 2.125025, Train accuracy: 0.252667, val accuracy: 0.257000\n",
      "Epoch: 7, Loss: 2.075056, Train accuracy: 0.270889, val accuracy: 0.273000\n",
      "Epoch: 8, Loss: 2.006934, Train accuracy: 0.299222, val accuracy: 0.305000\n",
      "Epoch: 9, Loss: 1.910346, Train accuracy: 0.361111, val accuracy: 0.350000\n",
      "Epoch: 10, Loss: 1.804598, Train accuracy: 0.412111, val accuracy: 0.400000\n",
      "Epoch: 11, Loss: 1.711676, Train accuracy: 0.442889, val accuracy: 0.431000\n",
      "Epoch: 12, Loss: 1.629383, Train accuracy: 0.491778, val accuracy: 0.480000\n",
      "Epoch: 13, Loss: 1.558486, Train accuracy: 0.525556, val accuracy: 0.525000\n",
      "Epoch: 14, Loss: 1.494684, Train accuracy: 0.554222, val accuracy: 0.539000\n",
      "Epoch: 15, Loss: 1.434878, Train accuracy: 0.582556, val accuracy: 0.562000\n",
      "Epoch: 16, Loss: 1.377797, Train accuracy: 0.595111, val accuracy: 0.586000\n",
      "Epoch: 17, Loss: 1.328250, Train accuracy: 0.616556, val accuracy: 0.599000\n",
      "Epoch: 18, Loss: 1.286623, Train accuracy: 0.644444, val accuracy: 0.626000\n",
      "Epoch: 19, Loss: 1.251905, Train accuracy: 0.659778, val accuracy: 0.643000\n",
      "Epoch: 20, Loss: 1.216933, Train accuracy: 0.674889, val accuracy: 0.654000\n",
      "Epoch: 21, Loss: 1.184550, Train accuracy: 0.687222, val accuracy: 0.662000\n",
      "Epoch: 22, Loss: 1.160350, Train accuracy: 0.697444, val accuracy: 0.685000\n",
      "Epoch: 23, Loss: 1.130586, Train accuracy: 0.705111, val accuracy: 0.683000\n",
      "Epoch: 24, Loss: 1.114522, Train accuracy: 0.711444, val accuracy: 0.688000\n",
      "Epoch: 25, Loss: 1.094926, Train accuracy: 0.715000, val accuracy: 0.701000\n",
      "Epoch: 26, Loss: 1.076734, Train accuracy: 0.716889, val accuracy: 0.700000\n",
      "Epoch: 27, Loss: 1.058338, Train accuracy: 0.729556, val accuracy: 0.706000\n",
      "Epoch: 28, Loss: 1.047959, Train accuracy: 0.735889, val accuracy: 0.699000\n",
      "Epoch: 29, Loss: 1.027626, Train accuracy: 0.735222, val accuracy: 0.708000\n",
      "Epoch: 30, Loss: 1.018768, Train accuracy: 0.743444, val accuracy: 0.715000\n",
      "Epoch: 31, Loss: 1.009892, Train accuracy: 0.751889, val accuracy: 0.720000\n",
      "Epoch: 32, Loss: 0.996778, Train accuracy: 0.754556, val accuracy: 0.713000\n",
      "Epoch: 33, Loss: 0.983632, Train accuracy: 0.760556, val accuracy: 0.713000\n",
      "Epoch: 34, Loss: 0.976006, Train accuracy: 0.762444, val accuracy: 0.725000\n",
      "Epoch: 35, Loss: 0.959759, Train accuracy: 0.766222, val accuracy: 0.721000\n",
      "Epoch: 36, Loss: 0.956464, Train accuracy: 0.773889, val accuracy: 0.726000\n",
      "Epoch: 37, Loss: 0.940645, Train accuracy: 0.780444, val accuracy: 0.727000\n",
      "Epoch: 38, Loss: 0.935929, Train accuracy: 0.774556, val accuracy: 0.711000\n",
      "Epoch: 39, Loss: 0.933605, Train accuracy: 0.780778, val accuracy: 0.733000\n",
      "Epoch: 40, Loss: 0.924364, Train accuracy: 0.782333, val accuracy: 0.736000\n",
      "Epoch: 41, Loss: 0.911874, Train accuracy: 0.795778, val accuracy: 0.736000\n",
      "Epoch: 42, Loss: 0.905240, Train accuracy: 0.793111, val accuracy: 0.737000\n",
      "Epoch: 43, Loss: 0.895757, Train accuracy: 0.803333, val accuracy: 0.748000\n",
      "Epoch: 44, Loss: 0.886382, Train accuracy: 0.800889, val accuracy: 0.739000\n",
      "Epoch: 45, Loss: 0.882548, Train accuracy: 0.802333, val accuracy: 0.738000\n",
      "Epoch: 46, Loss: 0.870631, Train accuracy: 0.811556, val accuracy: 0.748000\n",
      "Epoch: 47, Loss: 0.866090, Train accuracy: 0.813778, val accuracy: 0.748000\n",
      "Epoch: 48, Loss: 0.857593, Train accuracy: 0.817000, val accuracy: 0.749000\n",
      "Epoch: 49, Loss: 0.852238, Train accuracy: 0.816556, val accuracy: 0.752000\n",
      "Epoch: 50, Loss: 0.851947, Train accuracy: 0.823222, val accuracy: 0.749000\n",
      "Epoch: 51, Loss: 0.841753, Train accuracy: 0.824778, val accuracy: 0.741000\n",
      "Epoch: 52, Loss: 0.836683, Train accuracy: 0.827222, val accuracy: 0.744000\n",
      "Epoch: 53, Loss: 0.833931, Train accuracy: 0.834222, val accuracy: 0.758000\n",
      "Epoch: 54, Loss: 0.829151, Train accuracy: 0.842444, val accuracy: 0.759000\n",
      "Epoch: 55, Loss: 0.821181, Train accuracy: 0.840778, val accuracy: 0.760000\n",
      "Epoch: 56, Loss: 0.823102, Train accuracy: 0.840556, val accuracy: 0.743000\n",
      "Epoch: 57, Loss: 0.818053, Train accuracy: 0.845444, val accuracy: 0.761000\n",
      "Epoch: 58, Loss: 0.810529, Train accuracy: 0.846444, val accuracy: 0.768000\n",
      "Epoch: 59, Loss: 0.800212, Train accuracy: 0.845667, val accuracy: 0.759000\n",
      "Epoch: 60, Loss: 0.800996, Train accuracy: 0.852667, val accuracy: 0.762000\n",
      "Epoch: 61, Loss: 0.799660, Train accuracy: 0.849333, val accuracy: 0.764000\n",
      "Epoch: 62, Loss: 0.794762, Train accuracy: 0.842667, val accuracy: 0.759000\n",
      "Epoch: 63, Loss: 0.788279, Train accuracy: 0.857000, val accuracy: 0.767000\n",
      "Epoch: 64, Loss: 0.783943, Train accuracy: 0.861222, val accuracy: 0.766000\n",
      "Epoch: 65, Loss: 0.788218, Train accuracy: 0.867444, val accuracy: 0.771000\n",
      "Epoch: 66, Loss: 0.790184, Train accuracy: 0.860444, val accuracy: 0.761000\n",
      "Epoch: 67, Loss: 0.775027, Train accuracy: 0.869667, val accuracy: 0.764000\n",
      "Epoch: 68, Loss: 0.779772, Train accuracy: 0.864889, val accuracy: 0.770000\n",
      "Epoch: 69, Loss: 0.774872, Train accuracy: 0.869778, val accuracy: 0.765000\n",
      "Epoch: 70, Loss: 0.765624, Train accuracy: 0.872333, val accuracy: 0.770000\n",
      "Epoch: 71, Loss: 0.765408, Train accuracy: 0.875222, val accuracy: 0.770000\n",
      "Epoch: 72, Loss: 0.763304, Train accuracy: 0.872444, val accuracy: 0.773000\n",
      "Epoch: 73, Loss: 0.761610, Train accuracy: 0.870778, val accuracy: 0.772000\n",
      "Epoch: 74, Loss: 0.764268, Train accuracy: 0.882889, val accuracy: 0.775000\n",
      "Epoch: 75, Loss: 0.753042, Train accuracy: 0.881889, val accuracy: 0.779000\n",
      "Epoch: 76, Loss: 0.752827, Train accuracy: 0.876333, val accuracy: 0.771000\n",
      "Epoch: 77, Loss: 0.747452, Train accuracy: 0.885333, val accuracy: 0.776000\n",
      "Epoch: 78, Loss: 0.748596, Train accuracy: 0.887333, val accuracy: 0.772000\n",
      "Epoch: 79, Loss: 0.742582, Train accuracy: 0.886444, val accuracy: 0.777000\n",
      "Epoch: 80, Loss: 0.743796, Train accuracy: 0.892111, val accuracy: 0.785000\n",
      "Epoch: 81, Loss: 0.742549, Train accuracy: 0.886444, val accuracy: 0.782000\n",
      "Epoch: 82, Loss: 0.742738, Train accuracy: 0.882889, val accuracy: 0.779000\n",
      "Epoch: 83, Loss: 0.737707, Train accuracy: 0.896889, val accuracy: 0.781000\n",
      "Epoch: 84, Loss: 0.737172, Train accuracy: 0.895556, val accuracy: 0.782000\n",
      "Epoch: 85, Loss: 0.731152, Train accuracy: 0.894000, val accuracy: 0.783000\n",
      "Epoch: 86, Loss: 0.731547, Train accuracy: 0.893222, val accuracy: 0.773000\n",
      "Epoch: 87, Loss: 0.729609, Train accuracy: 0.895444, val accuracy: 0.769000\n",
      "Epoch: 88, Loss: 0.733670, Train accuracy: 0.897778, val accuracy: 0.780000\n",
      "Epoch: 89, Loss: 0.730914, Train accuracy: 0.902222, val accuracy: 0.791000\n",
      "Epoch: 90, Loss: 0.726414, Train accuracy: 0.896556, val accuracy: 0.787000\n",
      "Epoch: 91, Loss: 0.723349, Train accuracy: 0.902111, val accuracy: 0.776000\n",
      "Epoch: 92, Loss: 0.731570, Train accuracy: 0.903111, val accuracy: 0.783000\n",
      "Epoch: 93, Loss: 0.721069, Train accuracy: 0.900111, val accuracy: 0.780000\n",
      "Epoch: 94, Loss: 0.719921, Train accuracy: 0.899889, val accuracy: 0.781000\n",
      "Epoch: 95, Loss: 0.722534, Train accuracy: 0.904667, val accuracy: 0.791000\n"
     ]
    },
    {
     "name": "stdout",
     "output_type": "stream",
     "text": [
      "Epoch: 96, Loss: 0.715392, Train accuracy: 0.904556, val accuracy: 0.784000\n",
      "Epoch: 97, Loss: 0.717008, Train accuracy: 0.899222, val accuracy: 0.784000\n",
      "Epoch: 98, Loss: 0.725039, Train accuracy: 0.909222, val accuracy: 0.783000\n",
      "Epoch: 99, Loss: 0.714792, Train accuracy: 0.909889, val accuracy: 0.792000\n",
      "Epoch: 100, Loss: 0.714505, Train accuracy: 0.913000, val accuracy: 0.782000\n",
      "Epoch: 101, Loss: 0.715263, Train accuracy: 0.910667, val accuracy: 0.783000\n",
      "Epoch: 102, Loss: 0.710896, Train accuracy: 0.913222, val accuracy: 0.788000\n",
      "Epoch: 103, Loss: 0.706051, Train accuracy: 0.910444, val accuracy: 0.782000\n",
      "Epoch: 104, Loss: 0.709646, Train accuracy: 0.916556, val accuracy: 0.784000\n",
      "Epoch: 105, Loss: 0.706465, Train accuracy: 0.913111, val accuracy: 0.783000\n",
      "Epoch: 106, Loss: 0.714708, Train accuracy: 0.914222, val accuracy: 0.788000\n",
      "Epoch: 107, Loss: 0.706492, Train accuracy: 0.918778, val accuracy: 0.784000\n",
      "Epoch: 108, Loss: 0.706288, Train accuracy: 0.919667, val accuracy: 0.788000\n",
      "Epoch: 109, Loss: 0.702483, Train accuracy: 0.915333, val accuracy: 0.785000\n",
      "Epoch: 110, Loss: 0.704974, Train accuracy: 0.912889, val accuracy: 0.784000\n",
      "Epoch: 111, Loss: 0.696954, Train accuracy: 0.915778, val accuracy: 0.779000\n",
      "Epoch: 112, Loss: 0.700761, Train accuracy: 0.916889, val accuracy: 0.785000\n",
      "Epoch: 113, Loss: 0.702323, Train accuracy: 0.921111, val accuracy: 0.782000\n",
      "Epoch: 114, Loss: 0.700329, Train accuracy: 0.923333, val accuracy: 0.790000\n",
      "Epoch: 115, Loss: 0.703626, Train accuracy: 0.919444, val accuracy: 0.788000\n",
      "Epoch: 116, Loss: 0.701240, Train accuracy: 0.918111, val accuracy: 0.777000\n",
      "Epoch: 117, Loss: 0.699744, Train accuracy: 0.928667, val accuracy: 0.791000\n",
      "Epoch: 118, Loss: 0.696527, Train accuracy: 0.923111, val accuracy: 0.788000\n",
      "Epoch: 119, Loss: 0.695187, Train accuracy: 0.923889, val accuracy: 0.782000\n",
      "Epoch: 0, Loss: 2.236548, Train accuracy: 0.196667, val accuracy: 0.206000\n",
      "Epoch: 1, Loss: 1.971735, Train accuracy: 0.456778, val accuracy: 0.464000\n",
      "Epoch: 2, Loss: 1.522525, Train accuracy: 0.559889, val accuracy: 0.559000\n",
      "Epoch: 3, Loss: 1.407338, Train accuracy: 0.612333, val accuracy: 0.601000\n",
      "Epoch: 4, Loss: 1.318486, Train accuracy: 0.660111, val accuracy: 0.627000\n",
      "Epoch: 5, Loss: 1.253136, Train accuracy: 0.639111, val accuracy: 0.628000\n",
      "Epoch: 6, Loss: 1.242784, Train accuracy: 0.684667, val accuracy: 0.668000\n",
      "Epoch: 7, Loss: 1.190218, Train accuracy: 0.717778, val accuracy: 0.684000\n",
      "Epoch: 8, Loss: 1.216387, Train accuracy: 0.685111, val accuracy: 0.647000\n",
      "Epoch: 9, Loss: 1.228039, Train accuracy: 0.707000, val accuracy: 0.678000\n",
      "Epoch: 10, Loss: 1.186684, Train accuracy: 0.720000, val accuracy: 0.679000\n",
      "Epoch: 11, Loss: 1.201213, Train accuracy: 0.749333, val accuracy: 0.695000\n",
      "Epoch: 12, Loss: 1.188009, Train accuracy: 0.752778, val accuracy: 0.710000\n",
      "Epoch: 13, Loss: 1.166034, Train accuracy: 0.731222, val accuracy: 0.665000\n",
      "Epoch: 14, Loss: 1.158361, Train accuracy: 0.727889, val accuracy: 0.660000\n",
      "Epoch: 15, Loss: 1.155277, Train accuracy: 0.741667, val accuracy: 0.702000\n",
      "Epoch: 16, Loss: 1.229827, Train accuracy: 0.759889, val accuracy: 0.699000\n",
      "Epoch: 17, Loss: 1.104744, Train accuracy: 0.736222, val accuracy: 0.688000\n",
      "Epoch: 18, Loss: 1.158952, Train accuracy: 0.759556, val accuracy: 0.701000\n",
      "Epoch: 19, Loss: 1.206885, Train accuracy: 0.694111, val accuracy: 0.643000\n",
      "Epoch: 20, Loss: 1.138612, Train accuracy: 0.763333, val accuracy: 0.709000\n",
      "Epoch: 21, Loss: 1.229515, Train accuracy: 0.742778, val accuracy: 0.684000\n",
      "Epoch: 22, Loss: 1.137845, Train accuracy: 0.722444, val accuracy: 0.679000\n",
      "Epoch: 23, Loss: 1.162558, Train accuracy: 0.793444, val accuracy: 0.732000\n",
      "Epoch: 24, Loss: 1.143103, Train accuracy: 0.737000, val accuracy: 0.667000\n",
      "Epoch: 25, Loss: 1.293373, Train accuracy: 0.732778, val accuracy: 0.685000\n",
      "Epoch: 26, Loss: 1.172941, Train accuracy: 0.779667, val accuracy: 0.720000\n",
      "Epoch: 27, Loss: 1.157517, Train accuracy: 0.770000, val accuracy: 0.695000\n",
      "Epoch: 28, Loss: 1.170557, Train accuracy: 0.808556, val accuracy: 0.725000\n",
      "Epoch: 29, Loss: 1.118721, Train accuracy: 0.766556, val accuracy: 0.711000\n",
      "Epoch: 30, Loss: 1.131156, Train accuracy: 0.779889, val accuracy: 0.713000\n",
      "Epoch: 31, Loss: 1.141843, Train accuracy: 0.782000, val accuracy: 0.705000\n",
      "Epoch: 32, Loss: 1.114807, Train accuracy: 0.733111, val accuracy: 0.657000\n",
      "Epoch: 33, Loss: 1.144300, Train accuracy: 0.791111, val accuracy: 0.725000\n",
      "Epoch: 34, Loss: 1.139620, Train accuracy: 0.759889, val accuracy: 0.666000\n",
      "Epoch: 35, Loss: 1.186048, Train accuracy: 0.762444, val accuracy: 0.680000\n",
      "Epoch: 36, Loss: 1.137372, Train accuracy: 0.724667, val accuracy: 0.663000\n",
      "Epoch: 37, Loss: 1.162886, Train accuracy: 0.755444, val accuracy: 0.682000\n",
      "Epoch: 38, Loss: 1.117955, Train accuracy: 0.777667, val accuracy: 0.711000\n",
      "Epoch: 39, Loss: 1.085101, Train accuracy: 0.778778, val accuracy: 0.704000\n",
      "Epoch: 40, Loss: 1.101560, Train accuracy: 0.735556, val accuracy: 0.672000\n",
      "Epoch: 41, Loss: 1.260165, Train accuracy: 0.738556, val accuracy: 0.679000\n",
      "Epoch: 42, Loss: 1.201463, Train accuracy: 0.790000, val accuracy: 0.710000\n",
      "Epoch: 43, Loss: 1.117218, Train accuracy: 0.752000, val accuracy: 0.692000\n",
      "Epoch: 44, Loss: 1.119639, Train accuracy: 0.732333, val accuracy: 0.651000\n",
      "Epoch: 45, Loss: 1.135064, Train accuracy: 0.767556, val accuracy: 0.684000\n",
      "Epoch: 46, Loss: 1.124186, Train accuracy: 0.780889, val accuracy: 0.701000\n",
      "Epoch: 47, Loss: 1.079705, Train accuracy: 0.768222, val accuracy: 0.691000\n",
      "Epoch: 48, Loss: 1.122499, Train accuracy: 0.782333, val accuracy: 0.702000\n",
      "Epoch: 49, Loss: 1.155732, Train accuracy: 0.753444, val accuracy: 0.690000\n",
      "Epoch: 50, Loss: 1.153348, Train accuracy: 0.800889, val accuracy: 0.706000\n",
      "Epoch: 51, Loss: 1.145445, Train accuracy: 0.772778, val accuracy: 0.688000\n",
      "Epoch: 52, Loss: 1.114306, Train accuracy: 0.764556, val accuracy: 0.688000\n",
      "Epoch: 53, Loss: 1.110250, Train accuracy: 0.780556, val accuracy: 0.714000\n",
      "Epoch: 54, Loss: 1.108595, Train accuracy: 0.776111, val accuracy: 0.696000\n",
      "Epoch: 55, Loss: 1.131544, Train accuracy: 0.815778, val accuracy: 0.737000\n",
      "Epoch: 56, Loss: 1.079826, Train accuracy: 0.799778, val accuracy: 0.725000\n",
      "Epoch: 57, Loss: 1.073943, Train accuracy: 0.770222, val accuracy: 0.698000\n",
      "Epoch: 58, Loss: 1.111600, Train accuracy: 0.798667, val accuracy: 0.715000\n",
      "Epoch: 59, Loss: 1.155821, Train accuracy: 0.775667, val accuracy: 0.700000\n",
      "Epoch: 60, Loss: 1.123755, Train accuracy: 0.784111, val accuracy: 0.692000\n",
      "Epoch: 61, Loss: 1.094721, Train accuracy: 0.798667, val accuracy: 0.699000\n",
      "Epoch: 62, Loss: 1.192293, Train accuracy: 0.802333, val accuracy: 0.715000\n",
      "Epoch: 63, Loss: 1.083262, Train accuracy: 0.744889, val accuracy: 0.676000\n",
      "Epoch: 64, Loss: 1.220054, Train accuracy: 0.754667, val accuracy: 0.673000\n",
      "Epoch: 65, Loss: 1.189163, Train accuracy: 0.785000, val accuracy: 0.697000\n",
      "Epoch: 66, Loss: 1.132380, Train accuracy: 0.754778, val accuracy: 0.680000\n",
      "Epoch: 67, Loss: 1.133121, Train accuracy: 0.738556, val accuracy: 0.661000\n",
      "Epoch: 68, Loss: 1.225055, Train accuracy: 0.791667, val accuracy: 0.712000\n",
      "Epoch: 69, Loss: 1.157719, Train accuracy: 0.788556, val accuracy: 0.703000\n",
      "Epoch: 70, Loss: 1.083483, Train accuracy: 0.788667, val accuracy: 0.705000\n",
      "Epoch: 71, Loss: 1.062104, Train accuracy: 0.780778, val accuracy: 0.718000\n",
      "Epoch: 72, Loss: 1.124629, Train accuracy: 0.786778, val accuracy: 0.706000\n",
      "Epoch: 73, Loss: 1.095809, Train accuracy: 0.800222, val accuracy: 0.713000\n",
      "Epoch: 74, Loss: 1.090014, Train accuracy: 0.795222, val accuracy: 0.708000\n",
      "Epoch: 75, Loss: 1.101887, Train accuracy: 0.824889, val accuracy: 0.739000\n",
      "Epoch: 76, Loss: 1.080222, Train accuracy: 0.784000, val accuracy: 0.697000\n",
      "Epoch: 77, Loss: 1.121327, Train accuracy: 0.779889, val accuracy: 0.707000\n",
      "Epoch: 78, Loss: 1.212286, Train accuracy: 0.802000, val accuracy: 0.726000\n",
      "Epoch: 79, Loss: 1.131252, Train accuracy: 0.812556, val accuracy: 0.739000\n",
      "Epoch: 80, Loss: 1.063864, Train accuracy: 0.806000, val accuracy: 0.720000\n",
      "Epoch: 81, Loss: 1.096360, Train accuracy: 0.761556, val accuracy: 0.680000\n",
      "Epoch: 82, Loss: 1.100707, Train accuracy: 0.812556, val accuracy: 0.715000\n",
      "Epoch: 83, Loss: 1.105410, Train accuracy: 0.794111, val accuracy: 0.716000\n"
     ]
    },
    {
     "name": "stdout",
     "output_type": "stream",
     "text": [
      "Epoch: 84, Loss: 1.090033, Train accuracy: 0.806889, val accuracy: 0.740000\n",
      "Epoch: 85, Loss: 1.078004, Train accuracy: 0.790667, val accuracy: 0.703000\n",
      "Epoch: 86, Loss: 1.111226, Train accuracy: 0.790778, val accuracy: 0.707000\n",
      "Epoch: 87, Loss: 1.140996, Train accuracy: 0.759111, val accuracy: 0.697000\n",
      "Epoch: 88, Loss: 1.100591, Train accuracy: 0.792889, val accuracy: 0.715000\n",
      "Epoch: 89, Loss: 1.085829, Train accuracy: 0.741444, val accuracy: 0.671000\n",
      "Epoch: 90, Loss: 1.075628, Train accuracy: 0.773222, val accuracy: 0.681000\n",
      "Epoch: 91, Loss: 1.137560, Train accuracy: 0.789000, val accuracy: 0.716000\n",
      "Epoch: 92, Loss: 1.109538, Train accuracy: 0.803667, val accuracy: 0.716000\n",
      "Epoch: 93, Loss: 1.081268, Train accuracy: 0.833778, val accuracy: 0.747000\n",
      "Epoch: 94, Loss: 1.051323, Train accuracy: 0.779444, val accuracy: 0.701000\n",
      "Epoch: 95, Loss: 1.104167, Train accuracy: 0.752889, val accuracy: 0.689000\n",
      "Epoch: 96, Loss: 1.142047, Train accuracy: 0.774667, val accuracy: 0.706000\n",
      "Epoch: 97, Loss: 1.135108, Train accuracy: 0.843889, val accuracy: 0.744000\n",
      "Epoch: 98, Loss: 1.039510, Train accuracy: 0.786556, val accuracy: 0.710000\n",
      "Epoch: 99, Loss: 1.092112, Train accuracy: 0.795333, val accuracy: 0.695000\n",
      "Epoch: 100, Loss: 1.101230, Train accuracy: 0.776111, val accuracy: 0.695000\n",
      "Epoch: 101, Loss: 1.101069, Train accuracy: 0.835000, val accuracy: 0.740000\n",
      "Epoch: 102, Loss: 1.095619, Train accuracy: 0.805111, val accuracy: 0.735000\n",
      "Epoch: 103, Loss: 1.069300, Train accuracy: 0.840556, val accuracy: 0.735000\n",
      "Epoch: 104, Loss: 1.092032, Train accuracy: 0.805000, val accuracy: 0.717000\n",
      "Epoch: 105, Loss: 1.112926, Train accuracy: 0.784444, val accuracy: 0.692000\n",
      "Epoch: 106, Loss: 1.098830, Train accuracy: 0.792556, val accuracy: 0.713000\n",
      "Epoch: 107, Loss: 1.054464, Train accuracy: 0.818444, val accuracy: 0.737000\n",
      "Epoch: 108, Loss: 1.049163, Train accuracy: 0.825444, val accuracy: 0.739000\n",
      "Epoch: 109, Loss: 1.109677, Train accuracy: 0.774000, val accuracy: 0.701000\n",
      "Epoch: 110, Loss: 1.222614, Train accuracy: 0.815000, val accuracy: 0.742000\n",
      "Epoch: 111, Loss: 1.113729, Train accuracy: 0.792333, val accuracy: 0.717000\n",
      "Epoch: 112, Loss: 1.115236, Train accuracy: 0.832444, val accuracy: 0.744000\n",
      "Epoch: 113, Loss: 1.053471, Train accuracy: 0.817222, val accuracy: 0.721000\n",
      "Epoch: 114, Loss: 1.071975, Train accuracy: 0.802000, val accuracy: 0.715000\n",
      "Epoch: 115, Loss: 1.083476, Train accuracy: 0.825667, val accuracy: 0.728000\n",
      "Epoch: 116, Loss: 1.069207, Train accuracy: 0.809444, val accuracy: 0.730000\n",
      "Epoch: 117, Loss: 1.152933, Train accuracy: 0.772000, val accuracy: 0.696000\n",
      "Epoch: 118, Loss: 1.141074, Train accuracy: 0.787222, val accuracy: 0.711000\n",
      "Epoch: 119, Loss: 1.095451, Train accuracy: 0.784778, val accuracy: 0.721000\n",
      "Epoch: 0, Loss: 2.231339, Train accuracy: 0.199333, val accuracy: 0.209000\n",
      "Epoch: 1, Loss: 1.941240, Train accuracy: 0.459778, val accuracy: 0.462000\n",
      "Epoch: 2, Loss: 1.549530, Train accuracy: 0.567444, val accuracy: 0.567000\n",
      "Epoch: 3, Loss: 1.377208, Train accuracy: 0.637667, val accuracy: 0.618000\n",
      "Epoch: 4, Loss: 1.287595, Train accuracy: 0.671889, val accuracy: 0.651000\n",
      "Epoch: 5, Loss: 1.317493, Train accuracy: 0.682556, val accuracy: 0.662000\n",
      "Epoch: 6, Loss: 1.253556, Train accuracy: 0.692222, val accuracy: 0.670000\n",
      "Epoch: 7, Loss: 1.270043, Train accuracy: 0.698667, val accuracy: 0.650000\n",
      "Epoch: 8, Loss: 1.219549, Train accuracy: 0.720222, val accuracy: 0.674000\n",
      "Epoch: 9, Loss: 1.258142, Train accuracy: 0.717000, val accuracy: 0.666000\n",
      "Epoch: 10, Loss: 1.187667, Train accuracy: 0.735111, val accuracy: 0.665000\n",
      "Epoch: 11, Loss: 1.159025, Train accuracy: 0.773111, val accuracy: 0.698000\n",
      "Epoch: 12, Loss: 1.202211, Train accuracy: 0.746889, val accuracy: 0.681000\n",
      "Epoch: 13, Loss: 1.142252, Train accuracy: 0.737778, val accuracy: 0.660000\n",
      "Epoch: 14, Loss: 1.169023, Train accuracy: 0.760556, val accuracy: 0.693000\n",
      "Epoch: 15, Loss: 1.197579, Train accuracy: 0.779778, val accuracy: 0.700000\n",
      "Epoch: 16, Loss: 1.191204, Train accuracy: 0.763000, val accuracy: 0.687000\n",
      "Epoch: 17, Loss: 1.224360, Train accuracy: 0.730556, val accuracy: 0.684000\n",
      "Epoch: 18, Loss: 1.233312, Train accuracy: 0.771889, val accuracy: 0.693000\n",
      "Epoch: 19, Loss: 1.177337, Train accuracy: 0.788111, val accuracy: 0.711000\n",
      "Epoch: 20, Loss: 1.152507, Train accuracy: 0.742444, val accuracy: 0.681000\n",
      "Epoch: 21, Loss: 1.194890, Train accuracy: 0.762667, val accuracy: 0.703000\n",
      "Epoch: 22, Loss: 1.196623, Train accuracy: 0.776000, val accuracy: 0.710000\n",
      "Epoch: 23, Loss: 1.158196, Train accuracy: 0.798000, val accuracy: 0.711000\n",
      "Epoch: 24, Loss: 1.116705, Train accuracy: 0.786778, val accuracy: 0.709000\n",
      "Epoch: 25, Loss: 1.196729, Train accuracy: 0.671778, val accuracy: 0.604000\n",
      "Epoch: 26, Loss: 1.272028, Train accuracy: 0.748222, val accuracy: 0.691000\n",
      "Epoch: 27, Loss: 1.143921, Train accuracy: 0.818444, val accuracy: 0.708000\n",
      "Epoch: 28, Loss: 1.148547, Train accuracy: 0.762778, val accuracy: 0.683000\n",
      "Epoch: 29, Loss: 1.190140, Train accuracy: 0.774667, val accuracy: 0.687000\n",
      "Epoch: 30, Loss: 1.190741, Train accuracy: 0.759111, val accuracy: 0.696000\n",
      "Epoch: 31, Loss: 1.228676, Train accuracy: 0.769556, val accuracy: 0.672000\n",
      "Epoch: 32, Loss: 1.174495, Train accuracy: 0.759778, val accuracy: 0.668000\n",
      "Epoch: 33, Loss: 1.277200, Train accuracy: 0.777778, val accuracy: 0.699000\n",
      "Epoch: 34, Loss: 1.110685, Train accuracy: 0.781444, val accuracy: 0.698000\n",
      "Epoch: 35, Loss: 1.130885, Train accuracy: 0.781444, val accuracy: 0.714000\n",
      "Epoch: 36, Loss: 1.221584, Train accuracy: 0.732444, val accuracy: 0.663000\n",
      "Epoch: 37, Loss: 1.150375, Train accuracy: 0.806667, val accuracy: 0.711000\n",
      "Epoch: 38, Loss: 1.163929, Train accuracy: 0.792000, val accuracy: 0.711000\n",
      "Epoch: 39, Loss: 1.148675, Train accuracy: 0.732000, val accuracy: 0.644000\n",
      "Epoch: 40, Loss: 1.183800, Train accuracy: 0.789111, val accuracy: 0.706000\n",
      "Epoch: 41, Loss: 1.161722, Train accuracy: 0.796778, val accuracy: 0.710000\n",
      "Epoch: 42, Loss: 1.164179, Train accuracy: 0.757667, val accuracy: 0.661000\n",
      "Epoch: 43, Loss: 1.165801, Train accuracy: 0.786333, val accuracy: 0.694000\n",
      "Epoch: 44, Loss: 1.212092, Train accuracy: 0.749111, val accuracy: 0.678000\n",
      "Epoch: 45, Loss: 1.196783, Train accuracy: 0.786444, val accuracy: 0.706000\n",
      "Epoch: 46, Loss: 1.164909, Train accuracy: 0.756667, val accuracy: 0.689000\n",
      "Epoch: 47, Loss: 1.123792, Train accuracy: 0.750889, val accuracy: 0.672000\n",
      "Epoch: 48, Loss: 1.249497, Train accuracy: 0.786333, val accuracy: 0.690000\n",
      "Epoch: 49, Loss: 1.120916, Train accuracy: 0.782222, val accuracy: 0.688000\n",
      "Epoch: 50, Loss: 1.164609, Train accuracy: 0.781444, val accuracy: 0.693000\n",
      "Epoch: 51, Loss: 1.201507, Train accuracy: 0.814111, val accuracy: 0.722000\n",
      "Epoch: 52, Loss: 1.131766, Train accuracy: 0.796889, val accuracy: 0.706000\n",
      "Epoch: 53, Loss: 1.166968, Train accuracy: 0.819000, val accuracy: 0.730000\n",
      "Epoch: 54, Loss: 1.105268, Train accuracy: 0.745000, val accuracy: 0.655000\n",
      "Epoch: 55, Loss: 1.134979, Train accuracy: 0.753556, val accuracy: 0.648000\n",
      "Epoch: 56, Loss: 1.201172, Train accuracy: 0.758778, val accuracy: 0.666000\n",
      "Epoch: 57, Loss: 1.141689, Train accuracy: 0.748889, val accuracy: 0.659000\n",
      "Epoch: 58, Loss: 1.122345, Train accuracy: 0.822444, val accuracy: 0.718000\n",
      "Epoch: 59, Loss: 1.143694, Train accuracy: 0.808667, val accuracy: 0.717000\n",
      "Epoch: 60, Loss: 1.115027, Train accuracy: 0.783444, val accuracy: 0.693000\n",
      "Epoch: 61, Loss: 1.178637, Train accuracy: 0.802556, val accuracy: 0.711000\n",
      "Epoch: 62, Loss: 1.090859, Train accuracy: 0.786333, val accuracy: 0.680000\n",
      "Epoch: 63, Loss: 1.161692, Train accuracy: 0.819000, val accuracy: 0.720000\n",
      "Epoch: 64, Loss: 1.075668, Train accuracy: 0.805889, val accuracy: 0.700000\n",
      "Epoch: 65, Loss: 1.150943, Train accuracy: 0.793111, val accuracy: 0.704000\n",
      "Epoch: 66, Loss: 1.201987, Train accuracy: 0.800111, val accuracy: 0.700000\n",
      "Epoch: 67, Loss: 1.094463, Train accuracy: 0.776222, val accuracy: 0.689000\n",
      "Epoch: 68, Loss: 1.250277, Train accuracy: 0.766444, val accuracy: 0.708000\n",
      "Epoch: 69, Loss: 1.186375, Train accuracy: 0.810111, val accuracy: 0.716000\n",
      "Epoch: 70, Loss: 1.104925, Train accuracy: 0.826000, val accuracy: 0.732000\n",
      "Epoch: 71, Loss: 1.071490, Train accuracy: 0.789111, val accuracy: 0.680000\n"
     ]
    },
    {
     "name": "stdout",
     "output_type": "stream",
     "text": [
      "Epoch: 72, Loss: 1.248417, Train accuracy: 0.789333, val accuracy: 0.692000\n",
      "Epoch: 73, Loss: 1.087745, Train accuracy: 0.791667, val accuracy: 0.695000\n",
      "Epoch: 74, Loss: 1.152205, Train accuracy: 0.781889, val accuracy: 0.711000\n",
      "Epoch: 75, Loss: 1.168875, Train accuracy: 0.774111, val accuracy: 0.684000\n",
      "Epoch: 76, Loss: 1.128976, Train accuracy: 0.801889, val accuracy: 0.705000\n",
      "Epoch: 77, Loss: 1.092972, Train accuracy: 0.796111, val accuracy: 0.707000\n",
      "Epoch: 78, Loss: 1.124891, Train accuracy: 0.809667, val accuracy: 0.710000\n",
      "Epoch: 79, Loss: 1.068943, Train accuracy: 0.765667, val accuracy: 0.675000\n",
      "Epoch: 80, Loss: 1.118518, Train accuracy: 0.805000, val accuracy: 0.710000\n",
      "Epoch: 81, Loss: 1.172000, Train accuracy: 0.800778, val accuracy: 0.716000\n",
      "Epoch: 82, Loss: 1.097951, Train accuracy: 0.825000, val accuracy: 0.736000\n",
      "Epoch: 83, Loss: 1.105462, Train accuracy: 0.798778, val accuracy: 0.697000\n",
      "Epoch: 84, Loss: 1.115193, Train accuracy: 0.760222, val accuracy: 0.694000\n",
      "Epoch: 85, Loss: 1.143151, Train accuracy: 0.819889, val accuracy: 0.719000\n",
      "Epoch: 86, Loss: 1.214824, Train accuracy: 0.771222, val accuracy: 0.685000\n",
      "Epoch: 87, Loss: 1.171481, Train accuracy: 0.809778, val accuracy: 0.734000\n",
      "Epoch: 88, Loss: 1.082307, Train accuracy: 0.806889, val accuracy: 0.702000\n",
      "Epoch: 89, Loss: 1.134178, Train accuracy: 0.744889, val accuracy: 0.653000\n",
      "Epoch: 90, Loss: 1.199547, Train accuracy: 0.789667, val accuracy: 0.707000\n",
      "Epoch: 91, Loss: 1.057510, Train accuracy: 0.791222, val accuracy: 0.700000\n",
      "Epoch: 92, Loss: 1.089350, Train accuracy: 0.827333, val accuracy: 0.730000\n",
      "Epoch: 93, Loss: 1.084781, Train accuracy: 0.815778, val accuracy: 0.706000\n",
      "Epoch: 94, Loss: 1.094350, Train accuracy: 0.782000, val accuracy: 0.705000\n",
      "Epoch: 95, Loss: 1.107453, Train accuracy: 0.817444, val accuracy: 0.725000\n",
      "Epoch: 96, Loss: 1.041847, Train accuracy: 0.804000, val accuracy: 0.730000\n",
      "Epoch: 97, Loss: 1.086467, Train accuracy: 0.803667, val accuracy: 0.708000\n",
      "Epoch: 98, Loss: 1.106379, Train accuracy: 0.782667, val accuracy: 0.683000\n",
      "Epoch: 99, Loss: 1.153649, Train accuracy: 0.787444, val accuracy: 0.695000\n",
      "Epoch: 100, Loss: 1.132216, Train accuracy: 0.803333, val accuracy: 0.708000\n",
      "Epoch: 101, Loss: 1.061689, Train accuracy: 0.780111, val accuracy: 0.699000\n",
      "Epoch: 102, Loss: 1.076916, Train accuracy: 0.812667, val accuracy: 0.729000\n",
      "Epoch: 103, Loss: 1.083552, Train accuracy: 0.781111, val accuracy: 0.682000\n",
      "Epoch: 104, Loss: 1.183481, Train accuracy: 0.784889, val accuracy: 0.694000\n",
      "Epoch: 105, Loss: 1.126062, Train accuracy: 0.786444, val accuracy: 0.690000\n",
      "Epoch: 106, Loss: 1.130104, Train accuracy: 0.805667, val accuracy: 0.704000\n",
      "Epoch: 107, Loss: 1.126727, Train accuracy: 0.760222, val accuracy: 0.668000\n",
      "Epoch: 108, Loss: 1.171543, Train accuracy: 0.813000, val accuracy: 0.715000\n",
      "Epoch: 109, Loss: 1.042805, Train accuracy: 0.827111, val accuracy: 0.717000\n",
      "Epoch: 110, Loss: 1.080869, Train accuracy: 0.785333, val accuracy: 0.700000\n",
      "Epoch: 111, Loss: 1.083629, Train accuracy: 0.825333, val accuracy: 0.727000\n",
      "Epoch: 112, Loss: 1.158005, Train accuracy: 0.775889, val accuracy: 0.696000\n",
      "Epoch: 113, Loss: 1.061420, Train accuracy: 0.807000, val accuracy: 0.714000\n",
      "Epoch: 114, Loss: 1.059639, Train accuracy: 0.788111, val accuracy: 0.701000\n",
      "Epoch: 115, Loss: 1.173867, Train accuracy: 0.724000, val accuracy: 0.658000\n",
      "Epoch: 116, Loss: 1.129162, Train accuracy: 0.812222, val accuracy: 0.709000\n",
      "Epoch: 117, Loss: 1.075120, Train accuracy: 0.806667, val accuracy: 0.713000\n",
      "Epoch: 118, Loss: 1.102269, Train accuracy: 0.820889, val accuracy: 0.708000\n",
      "Epoch: 119, Loss: 1.131922, Train accuracy: 0.802556, val accuracy: 0.711000\n",
      "best validation accuracy achieved: 0.792000\n"
     ]
    }
   ],
   "source": [
    "# Let's train the best one-hidden-layer network we can\n",
    "\n",
    "learning_rates = [1e-2, 1e-1]\n",
    "reg_strength = 1e-3\n",
    "learning_rate_decay = 0.999\n",
    "hidden_layer_sizes = [128, 256]\n",
    "num_epochs = 120\n",
    "batch_size = 128\n",
    "\n",
    "best_classifier = None\n",
    "best_val_accuracy = None\n",
    "\n",
    "loss_history = []\n",
    "train_history = []\n",
    "val_history = []\n",
    "\n",
    "# TODO find the best hyperparameters to train the network\n",
    "# Don't hesitate to add new values to the arrays above, perform experiments, use any tricks you want\n",
    "# You should expect to get to at least 40% of valudation accuracy\n",
    "# Save loss/train/history of the best classifier to the variables above\n",
    "for learning_rate in learning_rates:\n",
    "    for hidden_layer in hidden_layer_sizes:\n",
    "        model = TwoLayerNet(n_input = train_X.shape[1], n_output = 10, \n",
    "                            hidden_layer_size = hidden_layer, reg = reg_strength)\n",
    "        dataset = Dataset(train_X, train_y, val_X, val_y)\n",
    "        trainer = Trainer(model, dataset, MomentumSGD(),num_epochs = num_epochs, batch_size = batch_size, \n",
    "                          learning_rate = learning_rate, learning_rate_decay = learning_rate_decay)\n",
    "        loss_history, train_history, val_history, = trainer.fit()\n",
    "        max_val_acc = max(val_history)\n",
    "        if (best_val_accuracy == None or max_val_acc > best_val_accuracy):\n",
    "            best_classifier = model\n",
    "            best_val_accuracy = max_val_acc\n",
    "print('best validation accuracy achieved: %f' % best_val_accuracy)"
   ]
  },
  {
   "cell_type": "code",
   "execution_count": 20,
   "metadata": {},
   "outputs": [
    {
     "data": {
      "text/plain": [
       "[<matplotlib.lines.Line2D at 0x28b04637948>]"
      ]
     },
     "execution_count": 20,
     "metadata": {},
     "output_type": "execute_result"
    },
    {
     "data": {
      "image/png": "[encoded data removed]",
      "text/plain": [
       "<Figure size 1080x504 with 2 Axes>"
      ]
     },
     "metadata": {
      "needs_background": "light"
     },
     "output_type": "display_data"
    }
   ],
   "source": [
    "plt.figure(figsize=(15, 7))\n",
    "plt.subplot(211)\n",
    "plt.title(\"Loss\")\n",
    "plt.plot(loss_history)\n",
    "plt.subplot(212)\n",
    "plt.title(\"Train/validation accuracy\")\n",
    "plt.plot(train_history)\n",
    "plt.plot(val_history)"
   ]
  },
  {
   "cell_type": "markdown",
   "metadata": {},
   "source": [
    "# Как обычно, посмотрим, как наша лучшая модель работает на тестовых данных"
   ]
  },
  {
   "cell_type": "code",
   "execution_count": 6,
   "metadata": {},
   "outputs": [
    {
     "name": "stdout",
     "output_type": "stream",
     "text": [
      "Neural net test set accuracy: 0.761000\n"
     ]
    }
   ],
   "source": [
    "test_pred = best_classifier.predict(test_X)\n",
    "test_accuracy = multiclass_accuracy(test_pred, test_y)\n",
    "print('Neural net test set accuracy: %f' % (test_accuracy, ))"
   ]
  },
  {
   "cell_type": "code",
   "execution_count": null,
   "metadata": {},
   "outputs": [],
   "source": []
  }
 ],
 "metadata": {
  "kernelspec": {
   "display_name": "Python 3",
   "language": "python",
   "name": "python3"
  },
  "language_info": {
   "codemirror_mode": {
    "name": "ipython",
    "version": 3
   },
   "file_extension": ".py",
   "mimetype": "text/x-python",
   "name": "python",
   "nbconvert_exporter": "python",
   "pygments_lexer": "ipython3",
   "version": "3.7.4"
  }
 },
 "nbformat": 4,
 "nbformat_minor": 2
}
